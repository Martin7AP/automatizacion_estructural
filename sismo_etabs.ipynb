{
 "cells": [
  {
   "cell_type": "markdown",
   "metadata": {},
   "source": [
    "# Análisis Sísmico"
   ]
  },
  {
   "cell_type": "code",
   "execution_count": 1,
   "metadata": {},
   "outputs": [],
   "source": [
    "#Importar las librerías necesarias\n",
    "%load_ext autoreload\n",
    "%autoreload 2\n",
    "import os\n",
    "import sys\n",
    "import numpy\n",
    "sys.path.append(os.getcwd())\n",
    "from lib import etabs_utils as etb\n",
    "from lib import sismo_utils as sis\n",
    "from lib import notebook_utils as ntb\n",
    "#from mem import sismo_mem as smem\n",
    "from ipywidgets import widgets\n",
    "from IPython.display import display\n"
   ]
  },
  {
   "cell_type": "code",
   "execution_count": 2,
   "metadata": {},
   "outputs": [],
   "source": [
    "_,SapModel = etb.connect_to_etabs()"
   ]
  },
  {
   "cell_type": "code",
   "execution_count": 3,
   "metadata": {},
   "outputs": [],
   "source": [
    "sismo = ntb.Sismo()"
   ]
  },
  {
   "cell_type": "markdown",
   "metadata": {},
   "source": [
    "# Parámetros de Sitio\n",
    "\n",
    "## Zonificación\n",
    "![Factor de Zonifiación](./images/factor_zona.png)"
   ]
  },
  {
   "cell_type": "markdown",
   "metadata": {},
   "source": [
    "## Factor de Suelo\n",
    "![Factor de Suelo](./images/factor_suelo.png)\n"
   ]
  },
  {
   "cell_type": "markdown",
   "metadata": {},
   "source": [
    "## Periodos del suelo\n",
    "![Periodos del Suelo](./images/periodos_suelo.png)"
   ]
  },
  {
   "cell_type": "markdown",
   "metadata": {},
   "source": [
    "## Sistema Estructural\n",
    "![Sistema Estructural](./images/sistemas_estructurales.png)"
   ]
  },
  {
   "cell_type": "markdown",
   "metadata": {},
   "source": [
    "## Factor de Amplificación sísmica\n",
    "![Factor de Amplificacion Sísmica](./images/amplificacion_sismica.png)"
   ]
  },
  {
   "cell_type": "markdown",
   "metadata": {},
   "source": [
    "## Factor de Importancia\n",
    "![Factor de Importancia](./images//factor_importancia.png)"
   ]
  },
  {
   "cell_type": "code",
   "execution_count": 4,
   "metadata": {},
   "outputs": [
    {
     "data": {
      "application/vnd.jupyter.widget-view+json": {
       "model_id": "f34fec7c3710402a9e3ef1e47fc29c93",
       "version_major": 2,
       "version_minor": 0
      },
      "text/plain": [
       "VBox(children=(Dropdown(description='Factor Zona', index=3, options=(1, 2, 3, 4), style=DescriptionStyle(descr…"
      ]
     },
     "metadata": {},
     "output_type": "display_data"
    }
   ],
   "source": [
    "sismo.parametros_e30()"
   ]
  },
  {
   "cell_type": "markdown",
   "metadata": {},
   "source": [
    "# Irregularidades"
   ]
  },
  {
   "cell_type": "code",
   "execution_count": 7,
   "metadata": {},
   "outputs": [
    {
     "data": {
      "application/vnd.jupyter.widget-view+json": {
       "model_id": "453eaefad68946119f40956f8ab0864c",
       "version_major": 2,
       "version_minor": 0
      },
      "text/plain": [
       "HBox(children=(VBox(children=(HTML(value='<b>Irregularidad en Altura</b>'), Checkbox(value=False, description=…"
      ]
     },
     "execution_count": 7,
     "metadata": {},
     "output_type": "execute_result"
    }
   ],
   "source": [
    "sismo.irregularidades_e30()"
   ]
  },
  {
   "cell_type": "markdown",
   "metadata": {},
   "source": [
    "# Parámetros Sísmicos"
   ]
  },
  {
   "cell_type": "code",
   "execution_count": 8,
   "metadata": {},
   "outputs": [
    {
     "name": "stdout",
     "output_type": "stream",
     "text": [
      "\n",
      "\u001b[1m Parámetros de sitio:\u001b[0m\n",
      "Factor de zona: \n",
      "    Z=0.45\n",
      "Factor de Importancia: \n",
      "    U=1.00\n",
      "Factor de Suelo: \n",
      "    S=1.05\n",
      "Periodos del Suelo: \n",
      "    Tp=0.60\n",
      "    Tl=2.00\n",
      "Factor Básico de Reducción:\n",
      "    Rox=7.00\n",
      "    Roy=7.00\n",
      "Irregularidad en planta:\n",
      "    Ip=1.00\n",
      "Irregularidad en altura:\n",
      "    Ia=1.00\n",
      "Factor de Reducción:\n",
      "    Rx=7.00\n",
      "    Ry=7.00\n",
      "\n"
     ]
    }
   ],
   "source": [
    "sismo.show_params()"
   ]
  },
  {
   "cell_type": "code",
   "execution_count": 9,
   "metadata": {},
   "outputs": [
    {
     "data": {
      "application/vnd.jupyter.widget-view+json": {
       "model_id": "d2bf4ebca7fd4f8b87a4a27e29d6be81",
       "version_major": 2,
       "version_minor": 0
      },
      "text/plain": [
       "HBox(children=(VBox(children=(HTML(value='<b>Dirección X</b>'), Dropdown(description='Sismo Estatico en X', in…"
      ]
     },
     "execution_count": 9,
     "metadata": {},
     "output_type": "execute_result"
    }
   ],
   "source": [
    "sismo.select_loads(SapModel)"
   ]
  },
  {
   "cell_type": "code",
   "execution_count": 10,
   "metadata": {},
   "outputs": [
    {
     "data": {
      "application/vnd.jupyter.widget-view+json": {
       "model_id": "0099098a93c445bb963c69c9282631ab",
       "version_major": 2,
       "version_minor": 0
      },
      "text/plain": [
       "Dropdown(description='Piso Base', options=('Story1', 'Story2', 'Story3', 'Story4'), style=DescriptionStyle(des…"
      ]
     },
     "execution_count": 10,
     "metadata": {},
     "output_type": "execute_result"
    }
   ],
   "source": [
    "sismo.select_base_story(SapModel)"
   ]
  },
  {
   "cell_type": "code",
   "execution_count": 11,
   "metadata": {},
   "outputs": [],
   "source": [
    "sismo.analisis_sismo(SapModel)"
   ]
  },
  {
   "cell_type": "code",
   "execution_count": 12,
   "metadata": {},
   "outputs": [
    {
     "data": {
      "text/html": [
       "<div>\n",
       "<style scoped>\n",
       "    .dataframe tbody tr th:only-of-type {\n",
       "        vertical-align: middle;\n",
       "    }\n",
       "\n",
       "    .dataframe tbody tr th {\n",
       "        vertical-align: top;\n",
       "    }\n",
       "\n",
       "    .dataframe thead th {\n",
       "        text-align: right;\n",
       "    }\n",
       "</style>\n",
       "<table border=\"1\" class=\"dataframe\">\n",
       "  <thead>\n",
       "    <tr style=\"text-align: right;\">\n",
       "      <th></th>\n",
       "      <th>Mode</th>\n",
       "      <th>Period</th>\n",
       "      <th>UX</th>\n",
       "      <th>UY</th>\n",
       "      <th>RZ</th>\n",
       "      <th>SumUX</th>\n",
       "      <th>SumUY</th>\n",
       "      <th>SumRZ</th>\n",
       "    </tr>\n",
       "  </thead>\n",
       "  <tbody>\n",
       "    <tr>\n",
       "      <th>0</th>\n",
       "      <td>1</td>\n",
       "      <td>0.272</td>\n",
       "      <td>8.001000e-01</td>\n",
       "      <td>0.000100</td>\n",
       "      <td>0.0143</td>\n",
       "      <td>0.8001</td>\n",
       "      <td>0.0001</td>\n",
       "      <td>0.0143</td>\n",
       "    </tr>\n",
       "    <tr>\n",
       "      <th>1</th>\n",
       "      <td>2</td>\n",
       "      <td>0.153</td>\n",
       "      <td>1.210000e-02</td>\n",
       "      <td>0.136300</td>\n",
       "      <td>0.6867</td>\n",
       "      <td>0.8122</td>\n",
       "      <td>0.1364</td>\n",
       "      <td>0.7009</td>\n",
       "    </tr>\n",
       "    <tr>\n",
       "      <th>2</th>\n",
       "      <td>3</td>\n",
       "      <td>0.135</td>\n",
       "      <td>3.200000e-03</td>\n",
       "      <td>0.737400</td>\n",
       "      <td>0.1362</td>\n",
       "      <td>0.8154</td>\n",
       "      <td>0.8738</td>\n",
       "      <td>0.8372</td>\n",
       "    </tr>\n",
       "    <tr>\n",
       "      <th>3</th>\n",
       "      <td>4</td>\n",
       "      <td>0.094</td>\n",
       "      <td>5.680000e-02</td>\n",
       "      <td>0.000200</td>\n",
       "      <td>0.0352</td>\n",
       "      <td>0.8722</td>\n",
       "      <td>0.8739</td>\n",
       "      <td>0.8724</td>\n",
       "    </tr>\n",
       "    <tr>\n",
       "      <th>4</th>\n",
       "      <td>5</td>\n",
       "      <td>0.072</td>\n",
       "      <td>1.081000e-01</td>\n",
       "      <td>0.000100</td>\n",
       "      <td>0.007</td>\n",
       "      <td>0.9804</td>\n",
       "      <td>0.874</td>\n",
       "      <td>0.8794</td>\n",
       "    </tr>\n",
       "    <tr>\n",
       "      <th>5</th>\n",
       "      <td>6</td>\n",
       "      <td>0.052</td>\n",
       "      <td>3.000000e-04</td>\n",
       "      <td>0.075600</td>\n",
       "      <td>0.025</td>\n",
       "      <td>0.9807</td>\n",
       "      <td>0.9496</td>\n",
       "      <td>0.9044</td>\n",
       "    </tr>\n",
       "    <tr>\n",
       "      <th>6</th>\n",
       "      <td>7</td>\n",
       "      <td>0.047</td>\n",
       "      <td>1.300000e-03</td>\n",
       "      <td>0.019000</td>\n",
       "      <td>0.0789</td>\n",
       "      <td>0.982</td>\n",
       "      <td>0.9686</td>\n",
       "      <td>0.9833</td>\n",
       "    </tr>\n",
       "    <tr>\n",
       "      <th>7</th>\n",
       "      <td>8</td>\n",
       "      <td>0.043</td>\n",
       "      <td>1.750000e-02</td>\n",
       "      <td>0.000200</td>\n",
       "      <td>4.81E-06</td>\n",
       "      <td>0.9995</td>\n",
       "      <td>0.9688</td>\n",
       "      <td>0.9833</td>\n",
       "    </tr>\n",
       "    <tr>\n",
       "      <th>8</th>\n",
       "      <td>9</td>\n",
       "      <td>0.039</td>\n",
       "      <td>1.000000e-04</td>\n",
       "      <td>0.020500</td>\n",
       "      <td>0.0039</td>\n",
       "      <td>0.9996</td>\n",
       "      <td>0.9893</td>\n",
       "      <td>0.9872</td>\n",
       "    </tr>\n",
       "    <tr>\n",
       "      <th>9</th>\n",
       "      <td>10</td>\n",
       "      <td>0.033</td>\n",
       "      <td>4.134000e-05</td>\n",
       "      <td>0.004200</td>\n",
       "      <td>0.0005</td>\n",
       "      <td>0.9997</td>\n",
       "      <td>0.9935</td>\n",
       "      <td>0.9877</td>\n",
       "    </tr>\n",
       "    <tr>\n",
       "      <th>10</th>\n",
       "      <td>11</td>\n",
       "      <td>0.029</td>\n",
       "      <td>9.026000e-07</td>\n",
       "      <td>0.006500</td>\n",
       "      <td>4.904E-06</td>\n",
       "      <td>0.9997</td>\n",
       "      <td>1</td>\n",
       "      <td>0.9877</td>\n",
       "    </tr>\n",
       "    <tr>\n",
       "      <th>11</th>\n",
       "      <td>12</td>\n",
       "      <td>0.029</td>\n",
       "      <td>3.000000e-04</td>\n",
       "      <td>0.000035</td>\n",
       "      <td>0.0123</td>\n",
       "      <td>1</td>\n",
       "      <td>1</td>\n",
       "      <td>1</td>\n",
       "    </tr>\n",
       "  </tbody>\n",
       "</table>\n",
       "</div>"
      ],
      "text/plain": [
       "   Mode Period            UX        UY         RZ   SumUX   SumUY   SumRZ\n",
       "0     1  0.272  8.001000e-01  0.000100     0.0143  0.8001  0.0001  0.0143\n",
       "1     2  0.153  1.210000e-02  0.136300     0.6867  0.8122  0.1364  0.7009\n",
       "2     3  0.135  3.200000e-03  0.737400     0.1362  0.8154  0.8738  0.8372\n",
       "3     4  0.094  5.680000e-02  0.000200     0.0352  0.8722  0.8739  0.8724\n",
       "4     5  0.072  1.081000e-01  0.000100      0.007  0.9804   0.874  0.8794\n",
       "5     6  0.052  3.000000e-04  0.075600      0.025  0.9807  0.9496  0.9044\n",
       "6     7  0.047  1.300000e-03  0.019000     0.0789   0.982  0.9686  0.9833\n",
       "7     8  0.043  1.750000e-02  0.000200   4.81E-06  0.9995  0.9688  0.9833\n",
       "8     9  0.039  1.000000e-04  0.020500     0.0039  0.9996  0.9893  0.9872\n",
       "9    10  0.033  4.134000e-05  0.004200     0.0005  0.9997  0.9935  0.9877\n",
       "10   11  0.029  9.026000e-07  0.006500  4.904E-06  0.9997       1  0.9877\n",
       "11   12  0.029  3.000000e-04  0.000035     0.0123       1       1       1"
      ]
     },
     "execution_count": 12,
     "metadata": {},
     "output_type": "execute_result"
    }
   ],
   "source": [
    "sismo.tables.modal"
   ]
  },
  {
   "cell_type": "markdown",
   "metadata": {},
   "source": [
    "## Revisión por Piso Blando"
   ]
  },
  {
   "cell_type": "code",
   "execution_count": 13,
   "metadata": {},
   "outputs": [
    {
     "data": {
      "application/vnd.jupyter.widget-view+json": {
       "model_id": "8de41b059b884a178163ea2f6ca984f8",
       "version_major": 2,
       "version_minor": 0
      },
      "text/plain": [
       "Dropdown(description='Filtro', options=('Sx', 'SDx Max', 'Sy', 'sin filtro'), style=DescriptionStyle(descripti…"
      ]
     },
     "metadata": {},
     "output_type": "display_data"
    },
    {
     "data": {
      "text/html": [
       "<div>\n",
       "<style scoped>\n",
       "    .dataframe tbody tr th:only-of-type {\n",
       "        vertical-align: middle;\n",
       "    }\n",
       "\n",
       "    .dataframe tbody tr th {\n",
       "        vertical-align: top;\n",
       "    }\n",
       "\n",
       "    .dataframe thead th {\n",
       "        text-align: right;\n",
       "    }\n",
       "</style>\n",
       "<table border=\"1\" class=\"dataframe\">\n",
       "  <thead>\n",
       "    <tr style=\"text-align: right;\">\n",
       "      <th></th>\n",
       "      <th>Story</th>\n",
       "      <th>OutputCase</th>\n",
       "      <th>UX</th>\n",
       "      <th>UY</th>\n",
       "      <th>ΔUX</th>\n",
       "      <th>ΔUY</th>\n",
       "      <th>VX</th>\n",
       "      <th>VY</th>\n",
       "      <th>lat_rig(k)</th>\n",
       "      <th>0.7_prev_k</th>\n",
       "      <th>0.8k_prom</th>\n",
       "      <th>is_reg</th>\n",
       "    </tr>\n",
       "  </thead>\n",
       "  <tbody>\n",
       "    <tr>\n",
       "      <th>0</th>\n",
       "      <td>Story4</td>\n",
       "      <td>Sx</td>\n",
       "      <td>14.417</td>\n",
       "      <td>-0.037</td>\n",
       "      <td>3.277</td>\n",
       "      <td>0.098</td>\n",
       "      <td>-55385.94</td>\n",
       "      <td>0</td>\n",
       "      <td>16901.415929</td>\n",
       "      <td>0.000000</td>\n",
       "      <td>0.000000</td>\n",
       "      <td>Regular</td>\n",
       "    </tr>\n",
       "    <tr>\n",
       "      <th>1</th>\n",
       "      <td>Story3</td>\n",
       "      <td>Sx</td>\n",
       "      <td>11.14</td>\n",
       "      <td>-0.135</td>\n",
       "      <td>3.859</td>\n",
       "      <td>-0.038</td>\n",
       "      <td>-607453.18</td>\n",
       "      <td>0</td>\n",
       "      <td>157412.070485</td>\n",
       "      <td>11830.991150</td>\n",
       "      <td>0.000000</td>\n",
       "      <td>Regular</td>\n",
       "    </tr>\n",
       "    <tr>\n",
       "      <th>2</th>\n",
       "      <td>Story2</td>\n",
       "      <td>Sx</td>\n",
       "      <td>7.281</td>\n",
       "      <td>-0.097</td>\n",
       "      <td>4.121</td>\n",
       "      <td>-0.059</td>\n",
       "      <td>-1111554.62</td>\n",
       "      <td>0</td>\n",
       "      <td>269729.342393</td>\n",
       "      <td>110188.449339</td>\n",
       "      <td>0.000000</td>\n",
       "      <td>Regular</td>\n",
       "    </tr>\n",
       "    <tr>\n",
       "      <th>3</th>\n",
       "      <td>Story1</td>\n",
       "      <td>Sx</td>\n",
       "      <td>3.16</td>\n",
       "      <td>-0.038</td>\n",
       "      <td>3.160</td>\n",
       "      <td>-0.038</td>\n",
       "      <td>-1384536.84</td>\n",
       "      <td>0</td>\n",
       "      <td>438144.569620</td>\n",
       "      <td>188810.539675</td>\n",
       "      <td>118411.421015</td>\n",
       "      <td>Regular</td>\n",
       "    </tr>\n",
       "  </tbody>\n",
       "</table>\n",
       "</div>"
      ],
      "text/plain": [
       "    Story OutputCase      UX      UY    ΔUX    ΔUY           VX VY  \\\n",
       "0  Story4         Sx  14.417  -0.037  3.277  0.098    -55385.94  0   \n",
       "1  Story3         Sx   11.14  -0.135  3.859 -0.038   -607453.18  0   \n",
       "2  Story2         Sx   7.281  -0.097  4.121 -0.059  -1111554.62  0   \n",
       "3  Story1         Sx    3.16  -0.038  3.160 -0.038  -1384536.84  0   \n",
       "\n",
       "      lat_rig(k)     0.7_prev_k      0.8k_prom   is_reg  \n",
       "0   16901.415929       0.000000       0.000000  Regular  \n",
       "1  157412.070485   11830.991150       0.000000  Regular  \n",
       "2  269729.342393  110188.449339       0.000000  Regular  \n",
       "3  438144.569620  188810.539675  118411.421015  Regular  "
      ]
     },
     "metadata": {},
     "output_type": "display_data"
    }
   ],
   "source": [
    "sismo.show_table(sismo.tables.piso_blando_table)"
   ]
  },
  {
   "cell_type": "markdown",
   "metadata": {},
   "source": [
    "## Revisión por Irregularidad de Masa"
   ]
  },
  {
   "cell_type": "code",
   "execution_count": 14,
   "metadata": {},
   "outputs": [
    {
     "data": {
      "text/html": [
       "<div>\n",
       "<style scoped>\n",
       "    .dataframe tbody tr th:only-of-type {\n",
       "        vertical-align: middle;\n",
       "    }\n",
       "\n",
       "    .dataframe tbody tr th {\n",
       "        vertical-align: top;\n",
       "    }\n",
       "\n",
       "    .dataframe thead th {\n",
       "        text-align: right;\n",
       "    }\n",
       "</style>\n",
       "<table border=\"1\" class=\"dataframe\">\n",
       "  <thead>\n",
       "    <tr style=\"text-align: right;\">\n",
       "      <th></th>\n",
       "      <th>Story</th>\n",
       "      <th>Mass</th>\n",
       "      <th>1.5 Mass</th>\n",
       "      <th>story_type</th>\n",
       "      <th>is_regular</th>\n",
       "    </tr>\n",
       "  </thead>\n",
       "  <tbody>\n",
       "    <tr>\n",
       "      <th>0</th>\n",
       "      <td>Story4</td>\n",
       "      <td>7.5451</td>\n",
       "      <td></td>\n",
       "      <td>Azotea</td>\n",
       "      <td>Regular</td>\n",
       "    </tr>\n",
       "    <tr>\n",
       "      <th>1</th>\n",
       "      <td>Story3</td>\n",
       "      <td>93.8061</td>\n",
       "      <td>140.70915</td>\n",
       "      <td>Piso</td>\n",
       "      <td>Regular</td>\n",
       "    </tr>\n",
       "    <tr>\n",
       "      <th>2</th>\n",
       "      <td>Story2</td>\n",
       "      <td>126.4444</td>\n",
       "      <td>189.6666</td>\n",
       "      <td>Piso</td>\n",
       "      <td>Regular</td>\n",
       "    </tr>\n",
       "    <tr>\n",
       "      <th>3</th>\n",
       "      <td>Story1</td>\n",
       "      <td>130.7201</td>\n",
       "      <td>196.08015</td>\n",
       "      <td>Piso</td>\n",
       "      <td>Regular</td>\n",
       "    </tr>\n",
       "    <tr>\n",
       "      <th>4</th>\n",
       "      <td>Base</td>\n",
       "      <td>26.8405</td>\n",
       "      <td></td>\n",
       "      <td>Sotano</td>\n",
       "      <td>Regular</td>\n",
       "    </tr>\n",
       "  </tbody>\n",
       "</table>\n",
       "</div>"
      ],
      "text/plain": [
       "    Story      Mass   1.5 Mass story_type is_regular\n",
       "0  Story4    7.5451                Azotea    Regular\n",
       "1  Story3   93.8061  140.70915       Piso    Regular\n",
       "2  Story2  126.4444   189.6666       Piso    Regular\n",
       "3  Story1  130.7201  196.08015       Piso    Regular\n",
       "4    Base   26.8405                Sotano    Regular"
      ]
     },
     "execution_count": 14,
     "metadata": {},
     "output_type": "execute_result"
    }
   ],
   "source": [
    "sismo.tables.rev_masa_table"
   ]
  },
  {
   "cell_type": "markdown",
   "metadata": {},
   "source": [
    "## Revisión de torsión"
   ]
  },
  {
   "cell_type": "code",
   "execution_count": 15,
   "metadata": {},
   "outputs": [
    {
     "data": {
      "application/vnd.jupyter.widget-view+json": {
       "model_id": "92896e7a17bc41ad8db79d7f11eee559",
       "version_major": 2,
       "version_minor": 0
      },
      "text/plain": [
       "Dropdown(description='Filtro', options=('SDx Max', 'Sx ', 'Sy ', 'sin filtro'), style=DescriptionStyle(descrip…"
      ]
     },
     "metadata": {},
     "output_type": "display_data"
    },
    {
     "data": {
      "text/html": [
       "<div>\n",
       "<style scoped>\n",
       "    .dataframe tbody tr th:only-of-type {\n",
       "        vertical-align: middle;\n",
       "    }\n",
       "\n",
       "    .dataframe tbody tr th {\n",
       "        vertical-align: top;\n",
       "    }\n",
       "\n",
       "    .dataframe thead th {\n",
       "        text-align: right;\n",
       "    }\n",
       "</style>\n",
       "<table border=\"1\" class=\"dataframe\">\n",
       "  <thead>\n",
       "    <tr style=\"text-align: right;\">\n",
       "      <th></th>\n",
       "      <th>Story</th>\n",
       "      <th>OutputCase</th>\n",
       "      <th>Direction</th>\n",
       "      <th>Max Drift</th>\n",
       "      <th>Avg Drift</th>\n",
       "      <th>Ratio</th>\n",
       "      <th>Height</th>\n",
       "      <th>Drifts</th>\n",
       "      <th>Drift &lt; Dmax/2</th>\n",
       "      <th>tor_reg</th>\n",
       "    </tr>\n",
       "  </thead>\n",
       "  <tbody>\n",
       "    <tr>\n",
       "      <th>0</th>\n",
       "      <td>Story4</td>\n",
       "      <td>SDx Max</td>\n",
       "      <td>X</td>\n",
       "      <td>3.045</td>\n",
       "      <td>3.029</td>\n",
       "      <td>1.005</td>\n",
       "      <td>2300</td>\n",
       "      <td>21.315</td>\n",
       "      <td>False</td>\n",
       "      <td>Regular</td>\n",
       "    </tr>\n",
       "    <tr>\n",
       "      <th>3</th>\n",
       "      <td>Story3</td>\n",
       "      <td>SDx Max</td>\n",
       "      <td>X</td>\n",
       "      <td>3.497</td>\n",
       "      <td>3.316</td>\n",
       "      <td>1.055</td>\n",
       "      <td>3000</td>\n",
       "      <td>24.479</td>\n",
       "      <td>False</td>\n",
       "      <td>Regular</td>\n",
       "    </tr>\n",
       "    <tr>\n",
       "      <th>6</th>\n",
       "      <td>Story2</td>\n",
       "      <td>SDx Max</td>\n",
       "      <td>X</td>\n",
       "      <td>3.958</td>\n",
       "      <td>3.565</td>\n",
       "      <td>1.11</td>\n",
       "      <td>3000</td>\n",
       "      <td>27.706</td>\n",
       "      <td>False</td>\n",
       "      <td>Regular</td>\n",
       "    </tr>\n",
       "    <tr>\n",
       "      <th>9</th>\n",
       "      <td>Story1</td>\n",
       "      <td>SDx Max</td>\n",
       "      <td>X</td>\n",
       "      <td>3.226</td>\n",
       "      <td>2.729</td>\n",
       "      <td>1.182</td>\n",
       "      <td>3300</td>\n",
       "      <td>22.582</td>\n",
       "      <td>False</td>\n",
       "      <td>Regular</td>\n",
       "    </tr>\n",
       "  </tbody>\n",
       "</table>\n",
       "</div>"
      ],
      "text/plain": [
       "    Story OutputCase Direction Max Drift Avg Drift  Ratio Height  Drifts  \\\n",
       "0  Story4    SDx Max         X     3.045     3.029  1.005   2300  21.315   \n",
       "3  Story3    SDx Max         X     3.497     3.316  1.055   3000  24.479   \n",
       "6  Story2    SDx Max         X     3.958     3.565   1.11   3000  27.706   \n",
       "9  Story1    SDx Max         X     3.226     2.729  1.182   3300  22.582   \n",
       "\n",
       "   Drift < Dmax/2  tor_reg  \n",
       "0           False  Regular  \n",
       "3           False  Regular  \n",
       "6           False  Regular  \n",
       "9           False  Regular  "
      ]
     },
     "metadata": {},
     "output_type": "display_data"
    }
   ],
   "source": [
    "sismo.show_table(sismo.tables.torsion_table)"
   ]
  },
  {
   "cell_type": "markdown",
   "metadata": {},
   "source": [
    "## Derivas"
   ]
  },
  {
   "cell_type": "code",
   "execution_count": 16,
   "metadata": {},
   "outputs": [
    {
     "data": {
      "application/vnd.jupyter.widget-view+json": {
       "model_id": "e0d194de7ddd4647a944eed8e94be91a",
       "version_major": 2,
       "version_minor": 0
      },
      "text/plain": [
       "Dropdown(description='Filtro', options=('SDx Max', 'Sx ', 'Sy ', 'sin filtro'), style=DescriptionStyle(descrip…"
      ]
     },
     "metadata": {},
     "output_type": "display_data"
    },
    {
     "data": {
      "text/html": [
       "<div>\n",
       "<style scoped>\n",
       "    .dataframe tbody tr th:only-of-type {\n",
       "        vertical-align: middle;\n",
       "    }\n",
       "\n",
       "    .dataframe tbody tr th {\n",
       "        vertical-align: top;\n",
       "    }\n",
       "\n",
       "    .dataframe thead th {\n",
       "        text-align: right;\n",
       "    }\n",
       "</style>\n",
       "<table border=\"1\" class=\"dataframe\">\n",
       "  <thead>\n",
       "    <tr style=\"text-align: right;\">\n",
       "      <th></th>\n",
       "      <th>Story</th>\n",
       "      <th>OutputCase</th>\n",
       "      <th>Direction</th>\n",
       "      <th>Drifts</th>\n",
       "      <th>Drift_Check</th>\n",
       "    </tr>\n",
       "  </thead>\n",
       "  <tbody>\n",
       "    <tr>\n",
       "      <th>0</th>\n",
       "      <td>Story4</td>\n",
       "      <td>SDx Max</td>\n",
       "      <td>X</td>\n",
       "      <td>21.315</td>\n",
       "      <td>No Cumple</td>\n",
       "    </tr>\n",
       "    <tr>\n",
       "      <th>3</th>\n",
       "      <td>Story3</td>\n",
       "      <td>SDx Max</td>\n",
       "      <td>X</td>\n",
       "      <td>24.479</td>\n",
       "      <td>No Cumple</td>\n",
       "    </tr>\n",
       "    <tr>\n",
       "      <th>6</th>\n",
       "      <td>Story2</td>\n",
       "      <td>SDx Max</td>\n",
       "      <td>X</td>\n",
       "      <td>27.706</td>\n",
       "      <td>No Cumple</td>\n",
       "    </tr>\n",
       "    <tr>\n",
       "      <th>9</th>\n",
       "      <td>Story1</td>\n",
       "      <td>SDx Max</td>\n",
       "      <td>X</td>\n",
       "      <td>22.582</td>\n",
       "      <td>No Cumple</td>\n",
       "    </tr>\n",
       "  </tbody>\n",
       "</table>\n",
       "</div>"
      ],
      "text/plain": [
       "    Story OutputCase Direction  Drifts Drift_Check\n",
       "0  Story4    SDx Max         X  21.315   No Cumple\n",
       "3  Story3    SDx Max         X  24.479   No Cumple\n",
       "6  Story2    SDx Max         X  27.706   No Cumple\n",
       "9  Story1    SDx Max         X  22.582   No Cumple"
      ]
     },
     "metadata": {},
     "output_type": "display_data"
    }
   ],
   "source": [
    "sismo.show_table(sismo.tables.drift_table)"
   ]
  },
  {
   "cell_type": "markdown",
   "metadata": {},
   "source": [
    "# Fuerza Cortante Mínima"
   ]
  },
  {
   "cell_type": "code",
   "execution_count": 36,
   "metadata": {},
   "outputs": [
    {
     "data": {
      "text/html": [
       "<style type=\"text/css\">\n",
       "</style>\n",
       "<table id=\"T_1e801\">\n",
       "  <thead>\n",
       "  </thead>\n",
       "  <tbody>\n",
       "    <tr>\n",
       "      <td id=\"T_1e801_row0_col0\" class=\"data row0 col0\" ></td>\n",
       "      <td id=\"T_1e801_row0_col1\" class=\"data row0 col1\" >X</td>\n",
       "      <td id=\"T_1e801_row0_col2\" class=\"data row0 col2\" >Y</td>\n",
       "    </tr>\n",
       "    <tr>\n",
       "      <td id=\"T_1e801_row1_col0\" class=\"data row1 col0\" >V din (Ton)</td>\n",
       "      <td id=\"T_1e801_row1_col1\" class=\"data row1 col1\" >114.666100</td>\n",
       "      <td id=\"T_1e801_row1_col2\" class=\"data row1 col2\" >113.995200</td>\n",
       "    </tr>\n",
       "    <tr>\n",
       "      <td id=\"T_1e801_row2_col0\" class=\"data row2 col0\" >V est (Ton)</td>\n",
       "      <td id=\"T_1e801_row2_col1\" class=\"data row2 col1\" >-141.183500</td>\n",
       "      <td id=\"T_1e801_row2_col2\" class=\"data row2 col2\" >-141.183500</td>\n",
       "    </tr>\n",
       "    <tr>\n",
       "      <td id=\"T_1e801_row3_col0\" class=\"data row3 col0\" >% min</td>\n",
       "      <td id=\"T_1e801_row3_col1\" class=\"data row3 col1\" >80</td>\n",
       "      <td id=\"T_1e801_row3_col2\" class=\"data row3 col2\" >80</td>\n",
       "    </tr>\n",
       "    <tr>\n",
       "      <td id=\"T_1e801_row4_col0\" class=\"data row4 col0\" >%</td>\n",
       "      <td id=\"T_1e801_row4_col1\" class=\"data row4 col1\" >81.220000</td>\n",
       "      <td id=\"T_1e801_row4_col2\" class=\"data row4 col2\" >80.740000</td>\n",
       "    </tr>\n",
       "    <tr>\n",
       "      <td id=\"T_1e801_row5_col0\" class=\"data row5 col0\" >F.E.</td>\n",
       "      <td id=\"T_1e801_row5_col1\" class=\"data row5 col1\" >1</td>\n",
       "      <td id=\"T_1e801_row5_col2\" class=\"data row5 col2\" >1</td>\n",
       "    </tr>\n",
       "  </tbody>\n",
       "</table>\n"
      ],
      "text/plain": [
       "<pandas.io.formats.style.Styler at 0x164eb6150d0>"
      ]
     },
     "execution_count": 36,
     "metadata": {},
     "output_type": "execute_result"
    }
   ],
   "source": [
    "sismo.tables.shear_table.style.hide(axis='index').hide(axis='columns')"
   ]
  },
  {
   "cell_type": "markdown",
   "metadata": {},
   "source": [
    "# Generación de reporte"
   ]
  },
  {
   "cell_type": "code",
   "execution_count": null,
   "metadata": {},
   "outputs": [],
   "source": [
    "sismo.generate_memoria()"
   ]
  }
 ],
 "metadata": {
  "kernelspec": {
   "display_name": "Python 3 (ipykernel)",
   "language": "python",
   "name": "python3"
  },
  "language_info": {
   "codemirror_mode": {
    "name": "ipython",
    "version": 3
   },
   "file_extension": ".py",
   "mimetype": "text/x-python",
   "name": "python",
   "nbconvert_exporter": "python",
   "pygments_lexer": "ipython3",
   "version": "3.9.16"
  },
  "toc-showmarkdowntxt": true,
  "vscode": {
   "interpreter": {
    "hash": "bac46d45b902eb1257731b3cec425c94a9ada4fac09ba91d7557c516a1f31c36"
   }
  }
 },
 "nbformat": 4,
 "nbformat_minor": 4
}
