{
 "cells": [
  {
   "cell_type": "markdown",
   "metadata": {},
   "source": [
    "# Análisis Sísmico"
   ]
  },
  {
   "cell_type": "code",
   "execution_count": 136,
   "metadata": {},
   "outputs": [
    {
     "name": "stdout",
     "output_type": "stream",
     "text": [
      "The autoreload extension is already loaded. To reload it, use:\n",
      "  %reload_ext autoreload\n"
     ]
    }
   ],
   "source": [
    "#Importar las librerías necesarias\n",
    "%load_ext autoreload\n",
    "%autoreload 2\n",
    "import os\n",
    "import sys\n",
    "import numpy\n",
    "sys.path.append(os.getcwd())\n",
    "from lib import etabs_utils as etb\n",
    "from lib import sismo_utils as sis\n",
    "from lib import notebook_utils as ntb\n",
    "#from mem import sismo_mem as smem\n",
    "from ipywidgets import widgets\n",
    "from IPython.display import display\n"
   ]
  },
  {
   "cell_type": "code",
   "execution_count": 137,
   "metadata": {},
   "outputs": [],
   "source": [
    "_,SapModel = etb.connect_to_etabs()"
   ]
  },
  {
   "cell_type": "code",
   "execution_count": 138,
   "metadata": {},
   "outputs": [],
   "source": [
    "sismo = ntb.Sismo()"
   ]
  },
  {
   "cell_type": "markdown",
   "metadata": {},
   "source": [
    "# Parámetros de Sitio\n",
    "\n",
    "## Zonificación\n",
    "![Factor de Zonifiación](./images/factor_zona.png)"
   ]
  },
  {
   "cell_type": "markdown",
   "metadata": {},
   "source": [
    "## Factor de Suelo\n",
    "![Factor de Suelo](./images/factor_suelo.png)\n"
   ]
  },
  {
   "cell_type": "markdown",
   "metadata": {},
   "source": [
    "## Periodos del suelo\n",
    "![Periodos del Suelo](./images/periodos_suelo.png)"
   ]
  },
  {
   "cell_type": "markdown",
   "metadata": {},
   "source": [
    "## Sistema Estructural\n",
    "![Sistema Estructural](./images/sistemas_estructurales.png)"
   ]
  },
  {
   "cell_type": "markdown",
   "metadata": {},
   "source": [
    "## Factor de Amplificación sísmica\n",
    "![Factor de Amplificacion Sísmica](./images/amplificacion_sismica.png)"
   ]
  },
  {
   "cell_type": "markdown",
   "metadata": {},
   "source": [
    "## Factor de Importancia\n",
    "![Factor de Importancia](./images//factor_importancia.png)"
   ]
  },
  {
   "cell_type": "code",
   "execution_count": 139,
   "metadata": {},
   "outputs": [
    {
     "data": {
      "application/vnd.jupyter.widget-view+json": {
       "model_id": "3a5ef608e6024df4aa61a5563ff24b6b",
       "version_major": 2,
       "version_minor": 0
      },
      "text/plain": [
       "VBox(children=(Dropdown(description='Factor Zona', index=3, options=(1, 2, 3, 4), style=DescriptionStyle(descr…"
      ]
     },
     "metadata": {},
     "output_type": "display_data"
    }
   ],
   "source": [
    "sismo.parametros_e30()"
   ]
  },
  {
   "cell_type": "markdown",
   "metadata": {},
   "source": [
    "# Irregularidades"
   ]
  },
  {
   "cell_type": "code",
   "execution_count": 140,
   "metadata": {},
   "outputs": [
    {
     "data": {
      "application/vnd.jupyter.widget-view+json": {
       "model_id": "95c6346923ec4b7e992945a875bfeae0",
       "version_major": 2,
       "version_minor": 0
      },
      "text/plain": [
       "HBox(children=(VBox(children=(HTML(value='<b>Irregularidad en Altura</b>'), Checkbox(value=False, description=…"
      ]
     },
     "metadata": {},
     "output_type": "display_data"
    }
   ],
   "source": [
    "sismo.irregularidades_e30()"
   ]
  },
  {
   "cell_type": "markdown",
   "metadata": {},
   "source": [
    "# Parámetros Sísmicos"
   ]
  },
  {
   "cell_type": "code",
   "execution_count": 141,
   "metadata": {},
   "outputs": [
    {
     "name": "stdout",
     "output_type": "stream",
     "text": [
      "\n",
      "\u001b[1m Parámetros de sitio:\u001b[0m\n",
      "Factor de zona: \n",
      "    Z=0.45\n",
      "Factor de Importancia: \n",
      "    U=1.00\n",
      "Factor de Suelo: \n",
      "    S=1.05\n",
      "Periodos del Suelo: \n",
      "    Tp=0.60\n",
      "    Tl=2.00\n",
      "Factor Básico de Reducción:\n",
      "    Rox=7.00\n",
      "    Roy=7.00\n",
      "Irregularidad en planta:\n",
      "    Ip=1.00\n",
      "Irregularidad en altura:\n",
      "    Ia=1.00\n",
      "Factor de Reducción:\n",
      "    Rx=7.00\n",
      "    Ry=7.00\n",
      "\n"
     ]
    }
   ],
   "source": [
    "sismo.show_params()"
   ]
  },
  {
   "cell_type": "code",
   "execution_count": 142,
   "metadata": {},
   "outputs": [
    {
     "data": {
      "application/vnd.jupyter.widget-view+json": {
       "model_id": "1f265746eee149699e176899a2d44485",
       "version_major": 2,
       "version_minor": 0
      },
      "text/plain": [
       "HBox(children=(VBox(children=(HTML(value='<b>Dirección X</b>'), Dropdown(description='Sismo Estatico en X', in…"
      ]
     },
     "metadata": {},
     "output_type": "display_data"
    }
   ],
   "source": [
    "sismo.select_loads(SapModel)"
   ]
  },
  {
   "cell_type": "code",
   "execution_count": 143,
   "metadata": {},
   "outputs": [
    {
     "data": {
      "application/vnd.jupyter.widget-view+json": {
       "model_id": "6d703757de5d42bda231f820e5e21ed5",
       "version_major": 2,
       "version_minor": 0
      },
      "text/plain": [
       "Dropdown(description='Piso Base', options=('NT', 'Story1', 'Story2', 'Story3', 'Story4', 'Story5', 'Story6', '…"
      ]
     },
     "metadata": {},
     "output_type": "display_data"
    }
   ],
   "source": [
    "sismo.select_base_story(SapModel)"
   ]
  },
  {
   "cell_type": "code",
   "execution_count": 144,
   "metadata": {},
   "outputs": [],
   "source": [
    "sismo.analisis_sismo(SapModel)"
   ]
  },
  {
   "cell_type": "code",
   "execution_count": 145,
   "metadata": {},
   "outputs": [
    {
     "data": {
      "text/html": [
       "<div>\n",
       "<style scoped>\n",
       "    .dataframe tbody tr th:only-of-type {\n",
       "        vertical-align: middle;\n",
       "    }\n",
       "\n",
       "    .dataframe tbody tr th {\n",
       "        vertical-align: top;\n",
       "    }\n",
       "\n",
       "    .dataframe thead th {\n",
       "        text-align: right;\n",
       "    }\n",
       "</style>\n",
       "<table border=\"1\" class=\"dataframe\">\n",
       "  <thead>\n",
       "    <tr style=\"text-align: right;\">\n",
       "      <th></th>\n",
       "      <th>Mode</th>\n",
       "      <th>Period</th>\n",
       "      <th>UX</th>\n",
       "      <th>UY</th>\n",
       "      <th>RZ</th>\n",
       "      <th>SumUX</th>\n",
       "      <th>SumUY</th>\n",
       "      <th>SumRZ</th>\n",
       "    </tr>\n",
       "  </thead>\n",
       "  <tbody>\n",
       "    <tr>\n",
       "      <th>0</th>\n",
       "      <td>1</td>\n",
       "      <td>0.644</td>\n",
       "      <td>0.690600</td>\n",
       "      <td>1.000000e-03</td>\n",
       "      <td>0.0111</td>\n",
       "      <td>0.6906</td>\n",
       "      <td>0.001</td>\n",
       "      <td>0.0111</td>\n",
       "    </tr>\n",
       "    <tr>\n",
       "      <th>1</th>\n",
       "      <td>2</td>\n",
       "      <td>0.451</td>\n",
       "      <td>0.015600</td>\n",
       "      <td>1.720000e-02</td>\n",
       "      <td>0.6635</td>\n",
       "      <td>0.7062</td>\n",
       "      <td>0.0182</td>\n",
       "      <td>0.6746</td>\n",
       "    </tr>\n",
       "    <tr>\n",
       "      <th>2</th>\n",
       "      <td>3</td>\n",
       "      <td>0.218</td>\n",
       "      <td>0.000300</td>\n",
       "      <td>6.536000e-01</td>\n",
       "      <td>0.018</td>\n",
       "      <td>0.7065</td>\n",
       "      <td>0.6719</td>\n",
       "      <td>0.6926</td>\n",
       "    </tr>\n",
       "    <tr>\n",
       "      <th>3</th>\n",
       "      <td>4</td>\n",
       "      <td>0.176</td>\n",
       "      <td>0.131200</td>\n",
       "      <td>6.000000e-04</td>\n",
       "      <td>0.0022</td>\n",
       "      <td>0.8377</td>\n",
       "      <td>0.6725</td>\n",
       "      <td>0.6948</td>\n",
       "    </tr>\n",
       "    <tr>\n",
       "      <th>4</th>\n",
       "      <td>5</td>\n",
       "      <td>0.13</td>\n",
       "      <td>0.001200</td>\n",
       "      <td>1.200000e-03</td>\n",
       "      <td>0.0169</td>\n",
       "      <td>0.8388</td>\n",
       "      <td>0.6737</td>\n",
       "      <td>0.7117</td>\n",
       "    </tr>\n",
       "    <tr>\n",
       "      <th>5</th>\n",
       "      <td>6</td>\n",
       "      <td>0.122</td>\n",
       "      <td>0.002200</td>\n",
       "      <td>1.300000e-03</td>\n",
       "      <td>0.1</td>\n",
       "      <td>0.841</td>\n",
       "      <td>0.675</td>\n",
       "      <td>0.8116</td>\n",
       "    </tr>\n",
       "    <tr>\n",
       "      <th>6</th>\n",
       "      <td>7</td>\n",
       "      <td>0.1</td>\n",
       "      <td>0.000400</td>\n",
       "      <td>2.900000e-03</td>\n",
       "      <td>0.0299</td>\n",
       "      <td>0.8414</td>\n",
       "      <td>0.6779</td>\n",
       "      <td>0.8415</td>\n",
       "    </tr>\n",
       "    <tr>\n",
       "      <th>7</th>\n",
       "      <td>8</td>\n",
       "      <td>0.087</td>\n",
       "      <td>0.019500</td>\n",
       "      <td>1.000000e-04</td>\n",
       "      <td>0.0068</td>\n",
       "      <td>0.8609</td>\n",
       "      <td>0.678</td>\n",
       "      <td>0.8483</td>\n",
       "    </tr>\n",
       "    <tr>\n",
       "      <th>8</th>\n",
       "      <td>9</td>\n",
       "      <td>0.076</td>\n",
       "      <td>0.033600</td>\n",
       "      <td>6.606000e-06</td>\n",
       "      <td>3.177E-05</td>\n",
       "      <td>0.8945</td>\n",
       "      <td>0.678</td>\n",
       "      <td>0.8483</td>\n",
       "    </tr>\n",
       "    <tr>\n",
       "      <th>9</th>\n",
       "      <td>10</td>\n",
       "      <td>0.064</td>\n",
       "      <td>0.000800</td>\n",
       "      <td>2.184000e-05</td>\n",
       "      <td>0.0019</td>\n",
       "      <td>0.8953</td>\n",
       "      <td>0.678</td>\n",
       "      <td>0.8502</td>\n",
       "    </tr>\n",
       "    <tr>\n",
       "      <th>10</th>\n",
       "      <td>11</td>\n",
       "      <td>0.054</td>\n",
       "      <td>0.000300</td>\n",
       "      <td>5.000000e-04</td>\n",
       "      <td>0.0488</td>\n",
       "      <td>0.8957</td>\n",
       "      <td>0.6785</td>\n",
       "      <td>0.899</td>\n",
       "    </tr>\n",
       "    <tr>\n",
       "      <th>11</th>\n",
       "      <td>12</td>\n",
       "      <td>0.05</td>\n",
       "      <td>0.001000</td>\n",
       "      <td>5.610000e-02</td>\n",
       "      <td>0.0011</td>\n",
       "      <td>0.8967</td>\n",
       "      <td>0.7346</td>\n",
       "      <td>0.9001</td>\n",
       "    </tr>\n",
       "    <tr>\n",
       "      <th>12</th>\n",
       "      <td>13</td>\n",
       "      <td>0.05</td>\n",
       "      <td>0.001200</td>\n",
       "      <td>1.230000e-01</td>\n",
       "      <td>0.0006</td>\n",
       "      <td>0.8978</td>\n",
       "      <td>0.8576</td>\n",
       "      <td>0.9007</td>\n",
       "    </tr>\n",
       "    <tr>\n",
       "      <th>13</th>\n",
       "      <td>14</td>\n",
       "      <td>0.049</td>\n",
       "      <td>0.007500</td>\n",
       "      <td>1.000000e-04</td>\n",
       "      <td>0.0004</td>\n",
       "      <td>0.9053</td>\n",
       "      <td>0.8578</td>\n",
       "      <td>0.9011</td>\n",
       "    </tr>\n",
       "    <tr>\n",
       "      <th>14</th>\n",
       "      <td>15</td>\n",
       "      <td>0.046</td>\n",
       "      <td>0.018700</td>\n",
       "      <td>3.659000e-05</td>\n",
       "      <td>0.0018</td>\n",
       "      <td>0.9241</td>\n",
       "      <td>0.8578</td>\n",
       "      <td>0.9029</td>\n",
       "    </tr>\n",
       "    <tr>\n",
       "      <th>15</th>\n",
       "      <td>16</td>\n",
       "      <td>0.042</td>\n",
       "      <td>0.000009</td>\n",
       "      <td>6.875000e-07</td>\n",
       "      <td>0.0002</td>\n",
       "      <td>0.9241</td>\n",
       "      <td>0.8578</td>\n",
       "      <td>0.9031</td>\n",
       "    </tr>\n",
       "    <tr>\n",
       "      <th>16</th>\n",
       "      <td>17</td>\n",
       "      <td>0.037</td>\n",
       "      <td>0.000045</td>\n",
       "      <td>1.239000e-06</td>\n",
       "      <td>0.0004</td>\n",
       "      <td>0.9241</td>\n",
       "      <td>0.8578</td>\n",
       "      <td>0.9035</td>\n",
       "    </tr>\n",
       "    <tr>\n",
       "      <th>17</th>\n",
       "      <td>18</td>\n",
       "      <td>0.035</td>\n",
       "      <td>0.000500</td>\n",
       "      <td>1.000000e-04</td>\n",
       "      <td>0.0204</td>\n",
       "      <td>0.9246</td>\n",
       "      <td>0.8579</td>\n",
       "      <td>0.9239</td>\n",
       "    </tr>\n",
       "    <tr>\n",
       "      <th>18</th>\n",
       "      <td>19</td>\n",
       "      <td>0.034</td>\n",
       "      <td>0.000700</td>\n",
       "      <td>4.201000e-05</td>\n",
       "      <td>0.002</td>\n",
       "      <td>0.9253</td>\n",
       "      <td>0.858</td>\n",
       "      <td>0.9259</td>\n",
       "    </tr>\n",
       "    <tr>\n",
       "      <th>19</th>\n",
       "      <td>20</td>\n",
       "      <td>0.033</td>\n",
       "      <td>0.005900</td>\n",
       "      <td>2.000000e-04</td>\n",
       "      <td>0.0007</td>\n",
       "      <td>0.9312</td>\n",
       "      <td>0.8581</td>\n",
       "      <td>0.9266</td>\n",
       "    </tr>\n",
       "    <tr>\n",
       "      <th>20</th>\n",
       "      <td>21</td>\n",
       "      <td>0.032</td>\n",
       "      <td>0.003600</td>\n",
       "      <td>7.295000e-07</td>\n",
       "      <td>2.517E-05</td>\n",
       "      <td>0.9348</td>\n",
       "      <td>0.8581</td>\n",
       "      <td>0.9266</td>\n",
       "    </tr>\n",
       "    <tr>\n",
       "      <th>21</th>\n",
       "      <td>22</td>\n",
       "      <td>0.031</td>\n",
       "      <td>0.006200</td>\n",
       "      <td>1.000000e-04</td>\n",
       "      <td>0.0022</td>\n",
       "      <td>0.941</td>\n",
       "      <td>0.8582</td>\n",
       "      <td>0.9288</td>\n",
       "    </tr>\n",
       "    <tr>\n",
       "      <th>22</th>\n",
       "      <td>23</td>\n",
       "      <td>0.026</td>\n",
       "      <td>0.003900</td>\n",
       "      <td>1.899000e-05</td>\n",
       "      <td>0.0082</td>\n",
       "      <td>0.9449</td>\n",
       "      <td>0.8582</td>\n",
       "      <td>0.9369</td>\n",
       "    </tr>\n",
       "    <tr>\n",
       "      <th>23</th>\n",
       "      <td>24</td>\n",
       "      <td>0.024</td>\n",
       "      <td>0.006300</td>\n",
       "      <td>4.295000e-05</td>\n",
       "      <td>0.0001</td>\n",
       "      <td>0.9513</td>\n",
       "      <td>0.8583</td>\n",
       "      <td>0.9371</td>\n",
       "    </tr>\n",
       "  </tbody>\n",
       "</table>\n",
       "</div>"
      ],
      "text/plain": [
       "   Mode Period        UX            UY         RZ   SumUX   SumUY   SumRZ\n",
       "0     1  0.644  0.690600  1.000000e-03     0.0111  0.6906   0.001  0.0111\n",
       "1     2  0.451  0.015600  1.720000e-02     0.6635  0.7062  0.0182  0.6746\n",
       "2     3  0.218  0.000300  6.536000e-01      0.018  0.7065  0.6719  0.6926\n",
       "3     4  0.176  0.131200  6.000000e-04     0.0022  0.8377  0.6725  0.6948\n",
       "4     5   0.13  0.001200  1.200000e-03     0.0169  0.8388  0.6737  0.7117\n",
       "5     6  0.122  0.002200  1.300000e-03        0.1   0.841   0.675  0.8116\n",
       "6     7    0.1  0.000400  2.900000e-03     0.0299  0.8414  0.6779  0.8415\n",
       "7     8  0.087  0.019500  1.000000e-04     0.0068  0.8609   0.678  0.8483\n",
       "8     9  0.076  0.033600  6.606000e-06  3.177E-05  0.8945   0.678  0.8483\n",
       "9    10  0.064  0.000800  2.184000e-05     0.0019  0.8953   0.678  0.8502\n",
       "10   11  0.054  0.000300  5.000000e-04     0.0488  0.8957  0.6785   0.899\n",
       "11   12   0.05  0.001000  5.610000e-02     0.0011  0.8967  0.7346  0.9001\n",
       "12   13   0.05  0.001200  1.230000e-01     0.0006  0.8978  0.8576  0.9007\n",
       "13   14  0.049  0.007500  1.000000e-04     0.0004  0.9053  0.8578  0.9011\n",
       "14   15  0.046  0.018700  3.659000e-05     0.0018  0.9241  0.8578  0.9029\n",
       "15   16  0.042  0.000009  6.875000e-07     0.0002  0.9241  0.8578  0.9031\n",
       "16   17  0.037  0.000045  1.239000e-06     0.0004  0.9241  0.8578  0.9035\n",
       "17   18  0.035  0.000500  1.000000e-04     0.0204  0.9246  0.8579  0.9239\n",
       "18   19  0.034  0.000700  4.201000e-05      0.002  0.9253   0.858  0.9259\n",
       "19   20  0.033  0.005900  2.000000e-04     0.0007  0.9312  0.8581  0.9266\n",
       "20   21  0.032  0.003600  7.295000e-07  2.517E-05  0.9348  0.8581  0.9266\n",
       "21   22  0.031  0.006200  1.000000e-04     0.0022   0.941  0.8582  0.9288\n",
       "22   23  0.026  0.003900  1.899000e-05     0.0082  0.9449  0.8582  0.9369\n",
       "23   24  0.024  0.006300  4.295000e-05     0.0001  0.9513  0.8583  0.9371"
      ]
     },
     "execution_count": 145,
     "metadata": {},
     "output_type": "execute_result"
    }
   ],
   "source": [
    "sismo.tables.modal"
   ]
  },
  {
   "cell_type": "markdown",
   "metadata": {},
   "source": [
    "## Revisión por Piso Blando"
   ]
  },
  {
   "cell_type": "code",
   "execution_count": 146,
   "metadata": {},
   "outputs": [
    {
     "data": {
      "application/vnd.jupyter.widget-view+json": {
       "model_id": "31f64ff3a8d14844ac22f8f64bff9482",
       "version_major": 2,
       "version_minor": 0
      },
      "text/plain": [
       "Dropdown(description='Filtro', options=('Sx Max', 'Sy Min', 'Sx Min', 'SDx Max', 'SDy Max', 'Sy Max', 'sin fil…"
      ]
     },
     "metadata": {},
     "output_type": "display_data"
    },
    {
     "data": {
      "text/html": [
       "<div>\n",
       "<style scoped>\n",
       "    .dataframe tbody tr th:only-of-type {\n",
       "        vertical-align: middle;\n",
       "    }\n",
       "\n",
       "    .dataframe tbody tr th {\n",
       "        vertical-align: top;\n",
       "    }\n",
       "\n",
       "    .dataframe thead th {\n",
       "        text-align: right;\n",
       "    }\n",
       "</style>\n",
       "<table border=\"1\" class=\"dataframe\">\n",
       "  <thead>\n",
       "    <tr style=\"text-align: right;\">\n",
       "      <th></th>\n",
       "      <th>Story</th>\n",
       "      <th>OutputCase</th>\n",
       "      <th>UX</th>\n",
       "      <th>UY</th>\n",
       "      <th>ΔUX</th>\n",
       "      <th>ΔUY</th>\n",
       "      <th>VX</th>\n",
       "      <th>VY</th>\n",
       "      <th>lat_rig(k)</th>\n",
       "      <th>0.7_prev_k</th>\n",
       "      <th>0.8k_prom</th>\n",
       "      <th>is_reg</th>\n",
       "    </tr>\n",
       "  </thead>\n",
       "  <tbody>\n",
       "    <tr>\n",
       "      <th>0</th>\n",
       "      <td>Story8</td>\n",
       "      <td>Sx Max</td>\n",
       "      <td>0.028397</td>\n",
       "      <td>-0.000452</td>\n",
       "      <td>0.002752</td>\n",
       "      <td>-0.000035</td>\n",
       "      <td>-18.4866</td>\n",
       "      <td>0</td>\n",
       "      <td>6717.514535</td>\n",
       "      <td>0.000000</td>\n",
       "      <td>0.000000</td>\n",
       "      <td>Regular</td>\n",
       "    </tr>\n",
       "    <tr>\n",
       "      <th>1</th>\n",
       "      <td>Story7</td>\n",
       "      <td>Sx Max</td>\n",
       "      <td>0.025645</td>\n",
       "      <td>-0.000417</td>\n",
       "      <td>0.003577</td>\n",
       "      <td>-0.000043</td>\n",
       "      <td>-39.5596</td>\n",
       "      <td>0</td>\n",
       "      <td>11059.435281</td>\n",
       "      <td>4702.260174</td>\n",
       "      <td>0.000000</td>\n",
       "      <td>Regular</td>\n",
       "    </tr>\n",
       "    <tr>\n",
       "      <th>2</th>\n",
       "      <td>Story6</td>\n",
       "      <td>Sx Max</td>\n",
       "      <td>0.022068</td>\n",
       "      <td>-0.000374</td>\n",
       "      <td>0.004129</td>\n",
       "      <td>-0.000067</td>\n",
       "      <td>-57.4061</td>\n",
       "      <td>0</td>\n",
       "      <td>13903.148462</td>\n",
       "      <td>7741.604697</td>\n",
       "      <td>0.000000</td>\n",
       "      <td>Regular</td>\n",
       "    </tr>\n",
       "    <tr>\n",
       "      <th>3</th>\n",
       "      <td>Story5</td>\n",
       "      <td>Sx Max</td>\n",
       "      <td>0.017939</td>\n",
       "      <td>-0.000307</td>\n",
       "      <td>0.004588</td>\n",
       "      <td>-0.000080</td>\n",
       "      <td>-72.069</td>\n",
       "      <td>0</td>\n",
       "      <td>15708.151700</td>\n",
       "      <td>9732.203923</td>\n",
       "      <td>8448.026207</td>\n",
       "      <td>Regular</td>\n",
       "    </tr>\n",
       "    <tr>\n",
       "      <th>4</th>\n",
       "      <td>Story4</td>\n",
       "      <td>Sx Max</td>\n",
       "      <td>0.013351</td>\n",
       "      <td>-0.000227</td>\n",
       "      <td>0.004601</td>\n",
       "      <td>-0.000084</td>\n",
       "      <td>-84.1016</td>\n",
       "      <td>0</td>\n",
       "      <td>18278.982830</td>\n",
       "      <td>10995.706190</td>\n",
       "      <td>10845.529452</td>\n",
       "      <td>Regular</td>\n",
       "    </tr>\n",
       "    <tr>\n",
       "      <th>5</th>\n",
       "      <td>Story3</td>\n",
       "      <td>Sx Max</td>\n",
       "      <td>0.00875</td>\n",
       "      <td>-0.000143</td>\n",
       "      <td>0.004264</td>\n",
       "      <td>-0.000078</td>\n",
       "      <td>-92.7918</td>\n",
       "      <td>0</td>\n",
       "      <td>21761.679174</td>\n",
       "      <td>12795.287981</td>\n",
       "      <td>12770.742131</td>\n",
       "      <td>Regular</td>\n",
       "    </tr>\n",
       "    <tr>\n",
       "      <th>6</th>\n",
       "      <td>Story2</td>\n",
       "      <td>Sx Max</td>\n",
       "      <td>0.004486</td>\n",
       "      <td>-6.5E-05</td>\n",
       "      <td>0.003241</td>\n",
       "      <td>-0.000053</td>\n",
       "      <td>-98.1396</td>\n",
       "      <td>0</td>\n",
       "      <td>30280.654119</td>\n",
       "      <td>15233.175422</td>\n",
       "      <td>14866.350321</td>\n",
       "      <td>Regular</td>\n",
       "    </tr>\n",
       "    <tr>\n",
       "      <th>7</th>\n",
       "      <td>Story1</td>\n",
       "      <td>Sx Max</td>\n",
       "      <td>0.001245</td>\n",
       "      <td>-1.2E-05</td>\n",
       "      <td>0.001245</td>\n",
       "      <td>-0.000012</td>\n",
       "      <td>-99.7665</td>\n",
       "      <td>0</td>\n",
       "      <td>80133.734940</td>\n",
       "      <td>21196.457883</td>\n",
       "      <td>18752.350966</td>\n",
       "      <td>Regular</td>\n",
       "    </tr>\n",
       "  </tbody>\n",
       "</table>\n",
       "</div>"
      ],
      "text/plain": [
       "    Story OutputCase        UX         UY       ΔUX       ΔUY        VX VY  \\\n",
       "0  Story8     Sx Max  0.028397  -0.000452  0.002752 -0.000035  -18.4866  0   \n",
       "1  Story7     Sx Max  0.025645  -0.000417  0.003577 -0.000043  -39.5596  0   \n",
       "2  Story6     Sx Max  0.022068  -0.000374  0.004129 -0.000067  -57.4061  0   \n",
       "3  Story5     Sx Max  0.017939  -0.000307  0.004588 -0.000080   -72.069  0   \n",
       "4  Story4     Sx Max  0.013351  -0.000227  0.004601 -0.000084  -84.1016  0   \n",
       "5  Story3     Sx Max   0.00875  -0.000143  0.004264 -0.000078  -92.7918  0   \n",
       "6  Story2     Sx Max  0.004486   -6.5E-05  0.003241 -0.000053  -98.1396  0   \n",
       "7  Story1     Sx Max  0.001245   -1.2E-05  0.001245 -0.000012  -99.7665  0   \n",
       "\n",
       "     lat_rig(k)    0.7_prev_k     0.8k_prom   is_reg  \n",
       "0   6717.514535      0.000000      0.000000  Regular  \n",
       "1  11059.435281   4702.260174      0.000000  Regular  \n",
       "2  13903.148462   7741.604697      0.000000  Regular  \n",
       "3  15708.151700   9732.203923   8448.026207  Regular  \n",
       "4  18278.982830  10995.706190  10845.529452  Regular  \n",
       "5  21761.679174  12795.287981  12770.742131  Regular  \n",
       "6  30280.654119  15233.175422  14866.350321  Regular  \n",
       "7  80133.734940  21196.457883  18752.350966  Regular  "
      ]
     },
     "metadata": {},
     "output_type": "display_data"
    }
   ],
   "source": [
    "sismo.show_table(sismo.tables.piso_blando_table)"
   ]
  },
  {
   "cell_type": "markdown",
   "metadata": {},
   "source": [
    "## Revisión por Irregularidad de Masa"
   ]
  },
  {
   "cell_type": "code",
   "execution_count": 147,
   "metadata": {},
   "outputs": [
    {
     "data": {
      "text/html": [
       "<div>\n",
       "<style scoped>\n",
       "    .dataframe tbody tr th:only-of-type {\n",
       "        vertical-align: middle;\n",
       "    }\n",
       "\n",
       "    .dataframe tbody tr th {\n",
       "        vertical-align: top;\n",
       "    }\n",
       "\n",
       "    .dataframe thead th {\n",
       "        text-align: right;\n",
       "    }\n",
       "</style>\n",
       "<table border=\"1\" class=\"dataframe\">\n",
       "  <thead>\n",
       "    <tr style=\"text-align: right;\">\n",
       "      <th></th>\n",
       "      <th>Story</th>\n",
       "      <th>Mass</th>\n",
       "      <th>1.5 Mass</th>\n",
       "      <th>story_type</th>\n",
       "      <th>is_regular</th>\n",
       "    </tr>\n",
       "  </thead>\n",
       "  <tbody>\n",
       "    <tr>\n",
       "      <th>0</th>\n",
       "      <td>Story8</td>\n",
       "      <td>6.66875</td>\n",
       "      <td></td>\n",
       "      <td>Azotea</td>\n",
       "      <td>Regular</td>\n",
       "    </tr>\n",
       "    <tr>\n",
       "      <th>1</th>\n",
       "      <td>Story7</td>\n",
       "      <td>8.75356</td>\n",
       "      <td>13.13034</td>\n",
       "      <td>Piso</td>\n",
       "      <td>Regular</td>\n",
       "    </tr>\n",
       "    <tr>\n",
       "      <th>2</th>\n",
       "      <td>Story6</td>\n",
       "      <td>8.73707</td>\n",
       "      <td>13.105605</td>\n",
       "      <td>Piso</td>\n",
       "      <td>Regular</td>\n",
       "    </tr>\n",
       "    <tr>\n",
       "      <th>3</th>\n",
       "      <td>Story5</td>\n",
       "      <td>8.73903</td>\n",
       "      <td>13.108545</td>\n",
       "      <td>Piso</td>\n",
       "      <td>Regular</td>\n",
       "    </tr>\n",
       "    <tr>\n",
       "      <th>4</th>\n",
       "      <td>Story4</td>\n",
       "      <td>9.16343</td>\n",
       "      <td>13.745145</td>\n",
       "      <td>Piso</td>\n",
       "      <td>Regular</td>\n",
       "    </tr>\n",
       "    <tr>\n",
       "      <th>5</th>\n",
       "      <td>Story3</td>\n",
       "      <td>9.16343</td>\n",
       "      <td>13.745145</td>\n",
       "      <td>Piso</td>\n",
       "      <td>Regular</td>\n",
       "    </tr>\n",
       "    <tr>\n",
       "      <th>6</th>\n",
       "      <td>Story2</td>\n",
       "      <td>9.16343</td>\n",
       "      <td>13.745145</td>\n",
       "      <td>Piso</td>\n",
       "      <td>Regular</td>\n",
       "    </tr>\n",
       "    <tr>\n",
       "      <th>7</th>\n",
       "      <td>Story1</td>\n",
       "      <td>7.43363</td>\n",
       "      <td>11.150445</td>\n",
       "      <td>Piso</td>\n",
       "      <td>Irregular</td>\n",
       "    </tr>\n",
       "    <tr>\n",
       "      <th>8</th>\n",
       "      <td>NT</td>\n",
       "      <td>3.56015</td>\n",
       "      <td>5.340225</td>\n",
       "      <td>Piso</td>\n",
       "      <td>Regular</td>\n",
       "    </tr>\n",
       "    <tr>\n",
       "      <th>9</th>\n",
       "      <td>Base</td>\n",
       "      <td>3.91769</td>\n",
       "      <td></td>\n",
       "      <td>Sotano</td>\n",
       "      <td>Regular</td>\n",
       "    </tr>\n",
       "  </tbody>\n",
       "</table>\n",
       "</div>"
      ],
      "text/plain": [
       "    Story     Mass   1.5 Mass story_type is_regular\n",
       "0  Story8  6.66875                Azotea    Regular\n",
       "1  Story7  8.75356   13.13034       Piso    Regular\n",
       "2  Story6  8.73707  13.105605       Piso    Regular\n",
       "3  Story5  8.73903  13.108545       Piso    Regular\n",
       "4  Story4  9.16343  13.745145       Piso    Regular\n",
       "5  Story3  9.16343  13.745145       Piso    Regular\n",
       "6  Story2  9.16343  13.745145       Piso    Regular\n",
       "7  Story1  7.43363  11.150445       Piso  Irregular\n",
       "8      NT  3.56015   5.340225       Piso    Regular\n",
       "9    Base  3.91769                Sotano    Regular"
      ]
     },
     "execution_count": 147,
     "metadata": {},
     "output_type": "execute_result"
    }
   ],
   "source": [
    "sismo.tables.rev_masa_table"
   ]
  },
  {
   "cell_type": "markdown",
   "metadata": {},
   "source": [
    "## Revisión de torsión"
   ]
  },
  {
   "cell_type": "code",
   "execution_count": 148,
   "metadata": {},
   "outputs": [
    {
     "data": {
      "application/vnd.jupyter.widget-view+json": {
       "model_id": "b2d359de7047402db8105df5315b0192",
       "version_major": 2,
       "version_minor": 0
      },
      "text/plain": [
       "Dropdown(description='Filtro', options=('Sx Max', 'Sx Min', 'Sy Max', 'Sy Min', 'SDx Max', 'SDy Max', 'sin fil…"
      ]
     },
     "metadata": {},
     "output_type": "display_data"
    },
    {
     "data": {
      "text/html": [
       "<div>\n",
       "<style scoped>\n",
       "    .dataframe tbody tr th:only-of-type {\n",
       "        vertical-align: middle;\n",
       "    }\n",
       "\n",
       "    .dataframe tbody tr th {\n",
       "        vertical-align: top;\n",
       "    }\n",
       "\n",
       "    .dataframe thead th {\n",
       "        text-align: right;\n",
       "    }\n",
       "</style>\n",
       "<table border=\"1\" class=\"dataframe\">\n",
       "  <thead>\n",
       "    <tr style=\"text-align: right;\">\n",
       "      <th></th>\n",
       "      <th>Story</th>\n",
       "      <th>OutputCase</th>\n",
       "      <th>Direction</th>\n",
       "      <th>Max Drift</th>\n",
       "      <th>Avg Drift</th>\n",
       "      <th>Ratio</th>\n",
       "      <th>Height</th>\n",
       "      <th>Drifts</th>\n",
       "      <th>Drift &lt; Dmax/2</th>\n",
       "      <th>tor_reg</th>\n",
       "    </tr>\n",
       "  </thead>\n",
       "  <tbody>\n",
       "    <tr>\n",
       "      <th>0</th>\n",
       "      <td>Story8</td>\n",
       "      <td>Sx Max</td>\n",
       "      <td>X</td>\n",
       "      <td>0.003536</td>\n",
       "      <td>0.003073</td>\n",
       "      <td>1.151</td>\n",
       "      <td>2.5</td>\n",
       "      <td>0.024752</td>\n",
       "      <td>False</td>\n",
       "      <td>Regular</td>\n",
       "    </tr>\n",
       "    <tr>\n",
       "      <th>9</th>\n",
       "      <td>Story7</td>\n",
       "      <td>Sx Max</td>\n",
       "      <td>X</td>\n",
       "      <td>0.004079</td>\n",
       "      <td>0.003789</td>\n",
       "      <td>1.077</td>\n",
       "      <td>2.5</td>\n",
       "      <td>0.028553</td>\n",
       "      <td>False</td>\n",
       "      <td>Regular</td>\n",
       "    </tr>\n",
       "    <tr>\n",
       "      <th>18</th>\n",
       "      <td>Story6</td>\n",
       "      <td>Sx Max</td>\n",
       "      <td>X</td>\n",
       "      <td>0.004785</td>\n",
       "      <td>0.00436</td>\n",
       "      <td>1.097</td>\n",
       "      <td>2.5</td>\n",
       "      <td>0.033495</td>\n",
       "      <td>False</td>\n",
       "      <td>Regular</td>\n",
       "    </tr>\n",
       "    <tr>\n",
       "      <th>27</th>\n",
       "      <td>Story5</td>\n",
       "      <td>Sx Max</td>\n",
       "      <td>X</td>\n",
       "      <td>0.005299</td>\n",
       "      <td>0.004789</td>\n",
       "      <td>1.107</td>\n",
       "      <td>2.5</td>\n",
       "      <td>0.037093</td>\n",
       "      <td>False</td>\n",
       "      <td>Regular</td>\n",
       "    </tr>\n",
       "    <tr>\n",
       "      <th>36</th>\n",
       "      <td>Story4</td>\n",
       "      <td>Sx Max</td>\n",
       "      <td>X</td>\n",
       "      <td>0.005457</td>\n",
       "      <td>0.004915</td>\n",
       "      <td>1.11</td>\n",
       "      <td>2.5</td>\n",
       "      <td>0.038199</td>\n",
       "      <td>False</td>\n",
       "      <td>Regular</td>\n",
       "    </tr>\n",
       "    <tr>\n",
       "      <th>45</th>\n",
       "      <td>Story3</td>\n",
       "      <td>Sx Max</td>\n",
       "      <td>X</td>\n",
       "      <td>0.005263</td>\n",
       "      <td>0.004659</td>\n",
       "      <td>1.13</td>\n",
       "      <td>2.5</td>\n",
       "      <td>0.036841</td>\n",
       "      <td>False</td>\n",
       "      <td>Regular</td>\n",
       "    </tr>\n",
       "    <tr>\n",
       "      <th>54</th>\n",
       "      <td>Story2</td>\n",
       "      <td>Sx Max</td>\n",
       "      <td>X</td>\n",
       "      <td>0.00448</td>\n",
       "      <td>0.00371</td>\n",
       "      <td>1.208</td>\n",
       "      <td>2.5</td>\n",
       "      <td>0.031360</td>\n",
       "      <td>False</td>\n",
       "      <td>Regular</td>\n",
       "    </tr>\n",
       "    <tr>\n",
       "      <th>62</th>\n",
       "      <td>Story1</td>\n",
       "      <td>Sx Max</td>\n",
       "      <td>X</td>\n",
       "      <td>0.001341</td>\n",
       "      <td>0.001119</td>\n",
       "      <td>1.199</td>\n",
       "      <td>1.5</td>\n",
       "      <td>0.009387</td>\n",
       "      <td>False</td>\n",
       "      <td>Regular</td>\n",
       "    </tr>\n",
       "    <tr>\n",
       "      <th>71</th>\n",
       "      <td>NT</td>\n",
       "      <td>Sx Max</td>\n",
       "      <td>X</td>\n",
       "      <td>0.00032</td>\n",
       "      <td>0.000134</td>\n",
       "      <td>2.387</td>\n",
       "      <td>1.75</td>\n",
       "      <td>0.002240</td>\n",
       "      <td>True</td>\n",
       "      <td>Regular</td>\n",
       "    </tr>\n",
       "  </tbody>\n",
       "</table>\n",
       "</div>"
      ],
      "text/plain": [
       "     Story OutputCase Direction Max Drift Avg Drift  Ratio Height    Drifts  \\\n",
       "0   Story8     Sx Max         X  0.003536  0.003073  1.151    2.5  0.024752   \n",
       "9   Story7     Sx Max         X  0.004079  0.003789  1.077    2.5  0.028553   \n",
       "18  Story6     Sx Max         X  0.004785   0.00436  1.097    2.5  0.033495   \n",
       "27  Story5     Sx Max         X  0.005299  0.004789  1.107    2.5  0.037093   \n",
       "36  Story4     Sx Max         X  0.005457  0.004915   1.11    2.5  0.038199   \n",
       "45  Story3     Sx Max         X  0.005263  0.004659   1.13    2.5  0.036841   \n",
       "54  Story2     Sx Max         X   0.00448   0.00371  1.208    2.5  0.031360   \n",
       "62  Story1     Sx Max         X  0.001341  0.001119  1.199    1.5  0.009387   \n",
       "71      NT     Sx Max         X   0.00032  0.000134  2.387   1.75  0.002240   \n",
       "\n",
       "    Drift < Dmax/2  tor_reg  \n",
       "0            False  Regular  \n",
       "9            False  Regular  \n",
       "18           False  Regular  \n",
       "27           False  Regular  \n",
       "36           False  Regular  \n",
       "45           False  Regular  \n",
       "54           False  Regular  \n",
       "62           False  Regular  \n",
       "71            True  Regular  "
      ]
     },
     "metadata": {},
     "output_type": "display_data"
    }
   ],
   "source": [
    "sismo.show_table(sismo.tables.torsion_table)"
   ]
  },
  {
   "cell_type": "markdown",
   "metadata": {},
   "source": [
    "## Derivas"
   ]
  },
  {
   "cell_type": "code",
   "execution_count": 149,
   "metadata": {},
   "outputs": [
    {
     "data": {
      "application/vnd.jupyter.widget-view+json": {
       "model_id": "75277f9cb091410e8ab6f5d32aa16d0c",
       "version_major": 2,
       "version_minor": 0
      },
      "text/plain": [
       "Dropdown(description='Filtro', options=('Sx Max', 'Sx Min', 'Sy Max', 'Sy Min', 'SDx Max', 'SDy Max', 'sin fil…"
      ]
     },
     "metadata": {},
     "output_type": "display_data"
    },
    {
     "data": {
      "text/html": [
       "<div>\n",
       "<style scoped>\n",
       "    .dataframe tbody tr th:only-of-type {\n",
       "        vertical-align: middle;\n",
       "    }\n",
       "\n",
       "    .dataframe tbody tr th {\n",
       "        vertical-align: top;\n",
       "    }\n",
       "\n",
       "    .dataframe thead th {\n",
       "        text-align: right;\n",
       "    }\n",
       "</style>\n",
       "<table border=\"1\" class=\"dataframe\">\n",
       "  <thead>\n",
       "    <tr style=\"text-align: right;\">\n",
       "      <th></th>\n",
       "      <th>Story</th>\n",
       "      <th>OutputCase</th>\n",
       "      <th>Direction</th>\n",
       "      <th>Drifts</th>\n",
       "      <th>Drift_Check</th>\n",
       "    </tr>\n",
       "  </thead>\n",
       "  <tbody>\n",
       "    <tr>\n",
       "      <th>0</th>\n",
       "      <td>Story8</td>\n",
       "      <td>Sx Max</td>\n",
       "      <td>X</td>\n",
       "      <td>0.024752</td>\n",
       "      <td>No Cumple</td>\n",
       "    </tr>\n",
       "    <tr>\n",
       "      <th>9</th>\n",
       "      <td>Story7</td>\n",
       "      <td>Sx Max</td>\n",
       "      <td>X</td>\n",
       "      <td>0.028553</td>\n",
       "      <td>No Cumple</td>\n",
       "    </tr>\n",
       "    <tr>\n",
       "      <th>18</th>\n",
       "      <td>Story6</td>\n",
       "      <td>Sx Max</td>\n",
       "      <td>X</td>\n",
       "      <td>0.033495</td>\n",
       "      <td>No Cumple</td>\n",
       "    </tr>\n",
       "    <tr>\n",
       "      <th>27</th>\n",
       "      <td>Story5</td>\n",
       "      <td>Sx Max</td>\n",
       "      <td>X</td>\n",
       "      <td>0.037093</td>\n",
       "      <td>No Cumple</td>\n",
       "    </tr>\n",
       "    <tr>\n",
       "      <th>36</th>\n",
       "      <td>Story4</td>\n",
       "      <td>Sx Max</td>\n",
       "      <td>X</td>\n",
       "      <td>0.038199</td>\n",
       "      <td>No Cumple</td>\n",
       "    </tr>\n",
       "    <tr>\n",
       "      <th>45</th>\n",
       "      <td>Story3</td>\n",
       "      <td>Sx Max</td>\n",
       "      <td>X</td>\n",
       "      <td>0.036841</td>\n",
       "      <td>No Cumple</td>\n",
       "    </tr>\n",
       "    <tr>\n",
       "      <th>54</th>\n",
       "      <td>Story2</td>\n",
       "      <td>Sx Max</td>\n",
       "      <td>X</td>\n",
       "      <td>0.031360</td>\n",
       "      <td>No Cumple</td>\n",
       "    </tr>\n",
       "    <tr>\n",
       "      <th>62</th>\n",
       "      <td>Story1</td>\n",
       "      <td>Sx Max</td>\n",
       "      <td>X</td>\n",
       "      <td>0.009387</td>\n",
       "      <td>No Cumple</td>\n",
       "    </tr>\n",
       "    <tr>\n",
       "      <th>71</th>\n",
       "      <td>NT</td>\n",
       "      <td>Sx Max</td>\n",
       "      <td>X</td>\n",
       "      <td>0.002240</td>\n",
       "      <td>Cumple</td>\n",
       "    </tr>\n",
       "  </tbody>\n",
       "</table>\n",
       "</div>"
      ],
      "text/plain": [
       "     Story OutputCase Direction    Drifts Drift_Check\n",
       "0   Story8     Sx Max         X  0.024752   No Cumple\n",
       "9   Story7     Sx Max         X  0.028553   No Cumple\n",
       "18  Story6     Sx Max         X  0.033495   No Cumple\n",
       "27  Story5     Sx Max         X  0.037093   No Cumple\n",
       "36  Story4     Sx Max         X  0.038199   No Cumple\n",
       "45  Story3     Sx Max         X  0.036841   No Cumple\n",
       "54  Story2     Sx Max         X  0.031360   No Cumple\n",
       "62  Story1     Sx Max         X  0.009387   No Cumple\n",
       "71      NT     Sx Max         X  0.002240      Cumple"
      ]
     },
     "metadata": {},
     "output_type": "display_data"
    }
   ],
   "source": [
    "sismo.show_table(sismo.tables.drift_table)"
   ]
  },
  {
   "cell_type": "markdown",
   "metadata": {},
   "source": [
    "# Fuerza Cortante Mínima"
   ]
  },
  {
   "cell_type": "code",
   "execution_count": 150,
   "metadata": {},
   "outputs": [
    {
     "data": {
      "text/html": [
       "<style type=\"text/css\">\n",
       "</style>\n",
       "<table id=\"T_be8dc\">\n",
       "  <thead>\n",
       "  </thead>\n",
       "  <tbody>\n",
       "    <tr>\n",
       "      <td id=\"T_be8dc_row0_col0\" class=\"data row0 col0\" ></td>\n",
       "      <td id=\"T_be8dc_row0_col1\" class=\"data row0 col1\" >X</td>\n",
       "      <td id=\"T_be8dc_row0_col2\" class=\"data row0 col2\" >Y</td>\n",
       "    </tr>\n",
       "    <tr>\n",
       "      <td id=\"T_be8dc_row1_col0\" class=\"data row1 col0\" >V din (Ton)</td>\n",
       "      <td id=\"T_be8dc_row1_col1\" class=\"data row1 col1\" >111.903600</td>\n",
       "      <td id=\"T_be8dc_row1_col2\" class=\"data row1 col2\" >12.657500</td>\n",
       "    </tr>\n",
       "    <tr>\n",
       "      <td id=\"T_be8dc_row2_col0\" class=\"data row2 col0\" >V est (Ton)</td>\n",
       "      <td id=\"T_be8dc_row2_col1\" class=\"data row2 col1\" >135.288700</td>\n",
       "      <td id=\"T_be8dc_row2_col2\" class=\"data row2 col2\" >14.596200</td>\n",
       "    </tr>\n",
       "    <tr>\n",
       "      <td id=\"T_be8dc_row3_col0\" class=\"data row3 col0\" >% min</td>\n",
       "      <td id=\"T_be8dc_row3_col1\" class=\"data row3 col1\" >80</td>\n",
       "      <td id=\"T_be8dc_row3_col2\" class=\"data row3 col2\" >80</td>\n",
       "    </tr>\n",
       "    <tr>\n",
       "      <td id=\"T_be8dc_row4_col0\" class=\"data row4 col0\" >%</td>\n",
       "      <td id=\"T_be8dc_row4_col1\" class=\"data row4 col1\" >82.710000</td>\n",
       "      <td id=\"T_be8dc_row4_col2\" class=\"data row4 col2\" >86.720000</td>\n",
       "    </tr>\n",
       "    <tr>\n",
       "      <td id=\"T_be8dc_row5_col0\" class=\"data row5 col0\" >F.E.</td>\n",
       "      <td id=\"T_be8dc_row5_col1\" class=\"data row5 col1\" >1</td>\n",
       "      <td id=\"T_be8dc_row5_col2\" class=\"data row5 col2\" >1</td>\n",
       "    </tr>\n",
       "  </tbody>\n",
       "</table>\n"
      ],
      "text/plain": [
       "<pandas.io.formats.style.Styler at 0x21d444a8eb0>"
      ]
     },
     "execution_count": 150,
     "metadata": {},
     "output_type": "execute_result"
    }
   ],
   "source": [
    "sismo.tables.shear_table.style.hide(axis='index').hide(axis='columns')"
   ]
  },
  {
   "cell_type": "code",
   "execution_count": 151,
   "metadata": {},
   "outputs": [
    {
     "data": {
      "application/vnd.jupyter.widget-view+json": {
       "model_id": "5e66a927d1de433f998801beb903c3e4",
       "version_major": 2,
       "version_minor": 0
      },
      "text/plain": [
       "VBox(children=(Dropdown(description='Departamento ', options=('LORETO', 'UCAYALI', 'MADRE DE DIOS', 'PUNO', 'A…"
      ]
     },
     "metadata": {},
     "output_type": "display_data"
    }
   ],
   "source": [
    "sismo.ubicacion()"
   ]
  },
  {
   "cell_type": "markdown",
   "metadata": {},
   "source": [
    "# Generación de reporte"
   ]
  },
  {
   "cell_type": "code",
   "execution_count": 156,
   "metadata": {},
   "outputs": [
    {
     "ename": "TypeError",
     "evalue": "factor_zona() missing 1 required positional argument: 'zona'",
     "output_type": "error",
     "traceback": [
      "\u001b[1;31m---------------------------------------------------------------------------\u001b[0m",
      "\u001b[1;31mTypeError\u001b[0m                                 Traceback (most recent call last)",
      "Cell \u001b[1;32mIn[156], line 1\u001b[0m\n\u001b[1;32m----> 1\u001b[0m sismo\u001b[39m.\u001b[39;49mgenerate_memoria()\n",
      "File \u001b[1;32md:\\programas\\automatizacion_estructural\\lib\\sismo_utils.py:518\u001b[0m, in \u001b[0;36mSismo_e30.generate_memoria\u001b[1;34m(self)\u001b[0m\n\u001b[0;32m    516\u001b[0m doc\u001b[39m.\u001b[39mpreamble\u001b[39m.\u001b[39mappend(NoEscape(\u001b[39mr\u001b[39m\u001b[39m'\u001b[39m\u001b[39m\\\u001b[39m\u001b[39mgraphicspath\u001b[39m\u001b[39m{\u001b[39m\u001b[39m \u001b[39m\u001b[39m{\u001b[39m\u001b[39m%s\u001b[39;00m\u001b[39m/} }\u001b[39m\u001b[39m'\u001b[39m\u001b[39m%\u001b[39mos\u001b[39m.\u001b[39mgetcwd()\u001b[39m.\u001b[39mreplace(\u001b[39m'\u001b[39m\u001b[39m\\\\\u001b[39;00m\u001b[39m'\u001b[39m,\u001b[39m'\u001b[39m\u001b[39m/\u001b[39m\u001b[39m'\u001b[39m)))\n\u001b[0;32m    517\u001b[0m sec \u001b[39m=\u001b[39m Section(\u001b[39m'\u001b[39m\u001b[39mAnálisis Sísmico\u001b[39m\u001b[39m'\u001b[39m)\n\u001b[1;32m--> 518\u001b[0m f_zona \u001b[39m=\u001b[39m smem\u001b[39m.\u001b[39;49mfactor_zona(zona)\n\u001b[0;32m    519\u001b[0m f_suelo \u001b[39m=\u001b[39m smem\u001b[39m.\u001b[39mfactor_suelo(zona, suelo)\n\u001b[0;32m    520\u001b[0m p_suelo \u001b[39m=\u001b[39m smem\u001b[39m.\u001b[39mperiodos_suelo(suelo)   \n",
      "\u001b[1;31mTypeError\u001b[0m: factor_zona() missing 1 required positional argument: 'zona'"
     ]
    }
   ],
   "source": [
    "sismo.generate_memoria()"
   ]
  },
  {
   "cell_type": "code",
   "execution_count": 155,
   "metadata": {},
   "outputs": [
    {
     "data": {
      "text/plain": [
       "4"
      ]
     },
     "execution_count": 155,
     "metadata": {},
     "output_type": "execute_result"
    }
   ],
   "source": [
    "sismo.data.zona"
   ]
  }
 ],
 "metadata": {
  "kernelspec": {
   "display_name": "Python 3 (ipykernel)",
   "language": "python",
   "name": "python3"
  },
  "language_info": {
   "codemirror_mode": {
    "name": "ipython",
    "version": 3
   },
   "file_extension": ".py",
   "mimetype": "text/x-python",
   "name": "python",
   "nbconvert_exporter": "python",
   "pygments_lexer": "ipython3",
   "version": "3.10.9"
  },
  "toc-showmarkdowntxt": true,
  "vscode": {
   "interpreter": {
    "hash": "bac46d45b902eb1257731b3cec425c94a9ada4fac09ba91d7557c516a1f31c36"
   }
  }
 },
 "nbformat": 4,
 "nbformat_minor": 4
}
