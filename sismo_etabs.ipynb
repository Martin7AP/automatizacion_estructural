{
 "cells": [
  {
   "cell_type": "markdown",
   "metadata": {},
   "source": [
    "# Análisis Sísmico"
   ]
  },
  {
   "cell_type": "code",
   "execution_count": 1,
   "metadata": {},
   "outputs": [],
   "source": [
    "#Importar las librerías necesarias\n",
    "%load_ext autoreload\n",
    "%autoreload 2\n",
    "import os\n",
    "import sys\n",
    "import numpy\n",
    "sys.path.append(os.getcwd())\n",
    "from lib import etabs_utils as etb\n",
    "from lib import sismo_utils as sis\n",
    "from lib import notebook_utils as ntb\n",
    "#from mem import sismo_mem as smem\n",
    "from ipywidgets import widgets\n",
    "from IPython.display import display\n"
   ]
  },
  {
   "cell_type": "code",
   "execution_count": 2,
   "metadata": {},
   "outputs": [],
   "source": [
    "_,SapModel = etb.connect_to_etabs()"
   ]
  },
  {
   "cell_type": "code",
   "execution_count": 22,
   "metadata": {},
   "outputs": [],
   "source": [
    "sismo = ntb.Sismo()"
   ]
  },
  {
   "cell_type": "markdown",
   "metadata": {},
   "source": [
    "# Parámetros de Sitio\n",
    "\n",
    "## Zonificación\n",
    "![Factor de Zonifiación](./images/factor_zona.png)"
   ]
  },
  {
   "cell_type": "markdown",
   "metadata": {},
   "source": [
    "## Factor de Suelo\n",
    "![Factor de Suelo](./images/factor_suelo.png)\n"
   ]
  },
  {
   "cell_type": "markdown",
   "metadata": {},
   "source": [
    "## Periodos del suelo\n",
    "![Periodos del Suelo](./images/periodos_suelo.png)"
   ]
  },
  {
   "cell_type": "markdown",
   "metadata": {},
   "source": [
    "## Sistema Estructural\n",
    "![Sistema Estructural](./images/sistemas_estructurales.png)"
   ]
  },
  {
   "cell_type": "markdown",
   "metadata": {},
   "source": [
    "## Factor de Amplificación sísmica\n",
    "![Factor de Amplificacion Sísmica](./images/amplificacion_sismica.png)"
   ]
  },
  {
   "cell_type": "markdown",
   "metadata": {},
   "source": [
    "## Factor de Importancia\n",
    "![Factor de Importancia](./images//factor_importancia.png)"
   ]
  },
  {
   "cell_type": "code",
   "execution_count": 23,
   "metadata": {},
   "outputs": [
    {
     "data": {
      "application/vnd.jupyter.widget-view+json": {
       "model_id": "ac91aee37174433791a8c6fb3902b7a2",
       "version_major": 2,
       "version_minor": 0
      },
      "text/plain": [
       "VBox(children=(Dropdown(description='Departamento ', options=('Seleccione', 'LORETO', 'UCAYALI', 'MADRE DE DIO…"
      ]
     },
     "metadata": {},
     "output_type": "display_data"
    },
    {
     "data": {
      "application/vnd.jupyter.widget-view+json": {
       "model_id": "287ebb8d051848028e838b8aa48a44d9",
       "version_major": 2,
       "version_minor": 0
      },
      "text/plain": [
       "VBox(children=(Dropdown(description='Provincia ', options=('Seleccione', 'HUANCABAMBA', 'AYABACA', 'MORROPÓN',…"
      ]
     },
     "metadata": {},
     "output_type": "display_data"
    },
    {
     "data": {
      "application/vnd.jupyter.widget-view+json": {
       "model_id": "861056c65f37439da3a8266ff5a7d982",
       "version_major": 2,
       "version_minor": 0
      },
      "text/plain": [
       "VBox(children=(Dropdown(description='Distrito ', options=('Seleccione', 'CASTILLA', 'CATACAOS', 'CURA MORI', '…"
      ]
     },
     "metadata": {},
     "output_type": "display_data"
    },
    {
     "data": {
      "application/vnd.jupyter.widget-view+json": {
       "model_id": "53c06a7ecd0f43139fcf344ea80039be",
       "version_major": 2,
       "version_minor": 0
      },
      "text/plain": [
       "VBox(children=(Dropdown(description='Factor Zona', index=3, options=(1, 2, 3, 4), style=DescriptionStyle(descr…"
      ]
     },
     "metadata": {},
     "output_type": "display_data"
    }
   ],
   "source": [
    "sismo.parametros_e30()"
   ]
  },
  {
   "cell_type": "markdown",
   "metadata": {},
   "source": [
    "# Irregularidades"
   ]
  },
  {
   "cell_type": "code",
   "execution_count": 24,
   "metadata": {},
   "outputs": [
    {
     "data": {
      "application/vnd.jupyter.widget-view+json": {
       "model_id": "610a1c98ff6f4e1d882b182281f4c154",
       "version_major": 2,
       "version_minor": 0
      },
      "text/plain": [
       "HBox(children=(VBox(children=(HTML(value='<b>Irregularidad en Altura</b>'), Checkbox(value=False, description=…"
      ]
     },
     "execution_count": 24,
     "metadata": {},
     "output_type": "execute_result"
    }
   ],
   "source": [
    "sismo.irregularidades_e30()"
   ]
  },
  {
   "cell_type": "markdown",
   "metadata": {},
   "source": [
    "# Parámetros Sísmicos"
   ]
  },
  {
   "cell_type": "code",
   "execution_count": 25,
   "metadata": {},
   "outputs": [
    {
     "name": "stdout",
     "output_type": "stream",
     "text": [
      "\n",
      "\u001b[1m Parámetros de sitio:\u001b[0m\n",
      "Factor de zona: \n",
      "    Z=0.45\n",
      "Factor de Importancia: \n",
      "    U=1.00\n",
      "Factor de Suelo: \n",
      "    S=1.05\n",
      "Periodos del Suelo: \n",
      "    Tp=0.60\n",
      "    Tl=2.00\n",
      "Factor Básico de Reducción:\n",
      "    Rox=3.00\n",
      "    Roy=3.00\n",
      "Irregularidad en planta:\n",
      "    Ip=1.00\n",
      "Irregularidad en altura:\n",
      "    Ia=1.00\n",
      "Factor de Reducción:\n",
      "    Rx=3.00\n",
      "    Ry=3.00\n",
      "\n"
     ]
    }
   ],
   "source": [
    "sismo.show_params()"
   ]
  },
  {
   "cell_type": "code",
   "execution_count": 26,
   "metadata": {},
   "outputs": [
    {
     "data": {
      "application/vnd.jupyter.widget-view+json": {
       "model_id": "b15bb98f9f7945bab54a1e588d60f0e0",
       "version_major": 2,
       "version_minor": 0
      },
      "text/plain": [
       "HBox(children=(VBox(children=(HTML(value='<b>Dirección X</b>'), Dropdown(description='Sismo Estatico en X', in…"
      ]
     },
     "execution_count": 26,
     "metadata": {},
     "output_type": "execute_result"
    }
   ],
   "source": [
    "sismo.select_loads(SapModel)"
   ]
  },
  {
   "cell_type": "code",
   "execution_count": 29,
   "metadata": {},
   "outputs": [
    {
     "data": {
      "application/vnd.jupyter.widget-view+json": {
       "model_id": "28e81a4989b8462d976f9021fba0ddfb",
       "version_major": 2,
       "version_minor": 0
      },
      "text/plain": [
       "Dropdown(description='Piso Base', options=('Story1', 'Story2', 'Story3', 'Story4'), style=DescriptionStyle(des…"
      ]
     },
     "execution_count": 29,
     "metadata": {},
     "output_type": "execute_result"
    }
   ],
   "source": [
    "sismo.select_base_story(SapModel)"
   ]
  },
  {
   "cell_type": "code",
   "execution_count": 30,
   "metadata": {},
   "outputs": [],
   "source": [
    "sismo.analisis_sismo(SapModel)"
   ]
  },
  {
   "cell_type": "code",
   "execution_count": 31,
   "metadata": {},
   "outputs": [
    {
     "data": {
      "text/html": [
       "<div>\n",
       "<style scoped>\n",
       "    .dataframe tbody tr th:only-of-type {\n",
       "        vertical-align: middle;\n",
       "    }\n",
       "\n",
       "    .dataframe tbody tr th {\n",
       "        vertical-align: top;\n",
       "    }\n",
       "\n",
       "    .dataframe thead th {\n",
       "        text-align: right;\n",
       "    }\n",
       "</style>\n",
       "<table border=\"1\" class=\"dataframe\">\n",
       "  <thead>\n",
       "    <tr style=\"text-align: right;\">\n",
       "      <th></th>\n",
       "      <th>Mode</th>\n",
       "      <th>Period</th>\n",
       "      <th>UX</th>\n",
       "      <th>UY</th>\n",
       "      <th>RZ</th>\n",
       "      <th>SumUX</th>\n",
       "      <th>SumUY</th>\n",
       "      <th>SumRZ</th>\n",
       "    </tr>\n",
       "  </thead>\n",
       "  <tbody>\n",
       "    <tr>\n",
       "      <th>0</th>\n",
       "      <td>1</td>\n",
       "      <td>0.272</td>\n",
       "      <td>8.001000e-01</td>\n",
       "      <td>0.000100</td>\n",
       "      <td>0.0143</td>\n",
       "      <td>0.8001</td>\n",
       "      <td>0.0001</td>\n",
       "      <td>0.0143</td>\n",
       "    </tr>\n",
       "    <tr>\n",
       "      <th>1</th>\n",
       "      <td>2</td>\n",
       "      <td>0.153</td>\n",
       "      <td>1.210000e-02</td>\n",
       "      <td>0.136300</td>\n",
       "      <td>0.6867</td>\n",
       "      <td>0.8122</td>\n",
       "      <td>0.1364</td>\n",
       "      <td>0.7009</td>\n",
       "    </tr>\n",
       "    <tr>\n",
       "      <th>2</th>\n",
       "      <td>3</td>\n",
       "      <td>0.135</td>\n",
       "      <td>3.200000e-03</td>\n",
       "      <td>0.737400</td>\n",
       "      <td>0.1362</td>\n",
       "      <td>0.8154</td>\n",
       "      <td>0.8738</td>\n",
       "      <td>0.8372</td>\n",
       "    </tr>\n",
       "    <tr>\n",
       "      <th>3</th>\n",
       "      <td>4</td>\n",
       "      <td>0.094</td>\n",
       "      <td>5.680000e-02</td>\n",
       "      <td>0.000200</td>\n",
       "      <td>0.0352</td>\n",
       "      <td>0.8722</td>\n",
       "      <td>0.8739</td>\n",
       "      <td>0.8724</td>\n",
       "    </tr>\n",
       "    <tr>\n",
       "      <th>4</th>\n",
       "      <td>5</td>\n",
       "      <td>0.072</td>\n",
       "      <td>1.081000e-01</td>\n",
       "      <td>0.000100</td>\n",
       "      <td>0.007</td>\n",
       "      <td>0.9804</td>\n",
       "      <td>0.874</td>\n",
       "      <td>0.8794</td>\n",
       "    </tr>\n",
       "    <tr>\n",
       "      <th>5</th>\n",
       "      <td>6</td>\n",
       "      <td>0.052</td>\n",
       "      <td>3.000000e-04</td>\n",
       "      <td>0.075600</td>\n",
       "      <td>0.025</td>\n",
       "      <td>0.9807</td>\n",
       "      <td>0.9496</td>\n",
       "      <td>0.9044</td>\n",
       "    </tr>\n",
       "    <tr>\n",
       "      <th>6</th>\n",
       "      <td>7</td>\n",
       "      <td>0.047</td>\n",
       "      <td>1.300000e-03</td>\n",
       "      <td>0.019000</td>\n",
       "      <td>0.0789</td>\n",
       "      <td>0.982</td>\n",
       "      <td>0.9686</td>\n",
       "      <td>0.9833</td>\n",
       "    </tr>\n",
       "    <tr>\n",
       "      <th>7</th>\n",
       "      <td>8</td>\n",
       "      <td>0.043</td>\n",
       "      <td>1.750000e-02</td>\n",
       "      <td>0.000200</td>\n",
       "      <td>4.81E-06</td>\n",
       "      <td>0.9995</td>\n",
       "      <td>0.9688</td>\n",
       "      <td>0.9833</td>\n",
       "    </tr>\n",
       "    <tr>\n",
       "      <th>8</th>\n",
       "      <td>9</td>\n",
       "      <td>0.039</td>\n",
       "      <td>1.000000e-04</td>\n",
       "      <td>0.020500</td>\n",
       "      <td>0.0039</td>\n",
       "      <td>0.9996</td>\n",
       "      <td>0.9893</td>\n",
       "      <td>0.9872</td>\n",
       "    </tr>\n",
       "    <tr>\n",
       "      <th>9</th>\n",
       "      <td>10</td>\n",
       "      <td>0.033</td>\n",
       "      <td>4.134000e-05</td>\n",
       "      <td>0.004200</td>\n",
       "      <td>0.0005</td>\n",
       "      <td>0.9997</td>\n",
       "      <td>0.9935</td>\n",
       "      <td>0.9877</td>\n",
       "    </tr>\n",
       "    <tr>\n",
       "      <th>10</th>\n",
       "      <td>11</td>\n",
       "      <td>0.029</td>\n",
       "      <td>9.026000e-07</td>\n",
       "      <td>0.006500</td>\n",
       "      <td>4.904E-06</td>\n",
       "      <td>0.9997</td>\n",
       "      <td>1</td>\n",
       "      <td>0.9877</td>\n",
       "    </tr>\n",
       "    <tr>\n",
       "      <th>11</th>\n",
       "      <td>12</td>\n",
       "      <td>0.029</td>\n",
       "      <td>3.000000e-04</td>\n",
       "      <td>0.000035</td>\n",
       "      <td>0.0123</td>\n",
       "      <td>1</td>\n",
       "      <td>1</td>\n",
       "      <td>1</td>\n",
       "    </tr>\n",
       "  </tbody>\n",
       "</table>\n",
       "</div>"
      ],
      "text/plain": [
       "   Mode Period            UX        UY         RZ   SumUX   SumUY   SumRZ\n",
       "0     1  0.272  8.001000e-01  0.000100     0.0143  0.8001  0.0001  0.0143\n",
       "1     2  0.153  1.210000e-02  0.136300     0.6867  0.8122  0.1364  0.7009\n",
       "2     3  0.135  3.200000e-03  0.737400     0.1362  0.8154  0.8738  0.8372\n",
       "3     4  0.094  5.680000e-02  0.000200     0.0352  0.8722  0.8739  0.8724\n",
       "4     5  0.072  1.081000e-01  0.000100      0.007  0.9804   0.874  0.8794\n",
       "5     6  0.052  3.000000e-04  0.075600      0.025  0.9807  0.9496  0.9044\n",
       "6     7  0.047  1.300000e-03  0.019000     0.0789   0.982  0.9686  0.9833\n",
       "7     8  0.043  1.750000e-02  0.000200   4.81E-06  0.9995  0.9688  0.9833\n",
       "8     9  0.039  1.000000e-04  0.020500     0.0039  0.9996  0.9893  0.9872\n",
       "9    10  0.033  4.134000e-05  0.004200     0.0005  0.9997  0.9935  0.9877\n",
       "10   11  0.029  9.026000e-07  0.006500  4.904E-06  0.9997       1  0.9877\n",
       "11   12  0.029  3.000000e-04  0.000035     0.0123       1       1       1"
      ]
     },
     "execution_count": 31,
     "metadata": {},
     "output_type": "execute_result"
    }
   ],
   "source": [
    "sismo.tables.modal"
   ]
  },
  {
   "cell_type": "markdown",
   "metadata": {},
   "source": [
    "## Revisión por Piso Blando"
   ]
  },
  {
   "cell_type": "code",
   "execution_count": 32,
   "metadata": {},
   "outputs": [
    {
     "data": {
      "application/vnd.jupyter.widget-view+json": {
       "model_id": "7301c8da485a4d02beb44f718f75508b",
       "version_major": 2,
       "version_minor": 0
      },
      "text/plain": [
       "Dropdown(description='Filtro', index=3, options=('Sx', 'SDy Max', 'Sy', 'SDx Max', 'sin filtro'), style=Descri…"
      ]
     },
     "metadata": {},
     "output_type": "display_data"
    },
    {
     "data": {
      "text/html": [
       "<div>\n",
       "<style scoped>\n",
       "    .dataframe tbody tr th:only-of-type {\n",
       "        vertical-align: middle;\n",
       "    }\n",
       "\n",
       "    .dataframe tbody tr th {\n",
       "        vertical-align: top;\n",
       "    }\n",
       "\n",
       "    .dataframe thead th {\n",
       "        text-align: right;\n",
       "    }\n",
       "</style>\n",
       "<table border=\"1\" class=\"dataframe\">\n",
       "  <thead>\n",
       "    <tr style=\"text-align: right;\">\n",
       "      <th></th>\n",
       "      <th>Story</th>\n",
       "      <th>OutputCase</th>\n",
       "      <th>UX</th>\n",
       "      <th>UY</th>\n",
       "      <th>ΔUX</th>\n",
       "      <th>ΔUY</th>\n",
       "      <th>VX</th>\n",
       "      <th>VY</th>\n",
       "      <th>lat_rig(k)</th>\n",
       "      <th>0.7_prev_k</th>\n",
       "      <th>0.8k_prom</th>\n",
       "      <th>is_reg</th>\n",
       "    </tr>\n",
       "  </thead>\n",
       "  <tbody>\n",
       "    <tr>\n",
       "      <th>12</th>\n",
       "      <td>Story4</td>\n",
       "      <td>SDx Max</td>\n",
       "      <td>0.013224</td>\n",
       "      <td>0.000433</td>\n",
       "      <td>0.003810</td>\n",
       "      <td>0.000240</td>\n",
       "      <td>6.9464</td>\n",
       "      <td>0.4426</td>\n",
       "      <td>1844.166667</td>\n",
       "      <td>0.000000</td>\n",
       "      <td>0.000000</td>\n",
       "      <td>Regular</td>\n",
       "    </tr>\n",
       "    <tr>\n",
       "      <th>13</th>\n",
       "      <td>Story3</td>\n",
       "      <td>SDx Max</td>\n",
       "      <td>0.009414</td>\n",
       "      <td>0.000193</td>\n",
       "      <td>0.003325</td>\n",
       "      <td>0.000055</td>\n",
       "      <td>54.3649</td>\n",
       "      <td>3.2201</td>\n",
       "      <td>58547.272727</td>\n",
       "      <td>1290.916667</td>\n",
       "      <td>0.000000</td>\n",
       "      <td>Regular</td>\n",
       "    </tr>\n",
       "    <tr>\n",
       "      <th>14</th>\n",
       "      <td>Story2</td>\n",
       "      <td>SDx Max</td>\n",
       "      <td>0.006089</td>\n",
       "      <td>0.000138</td>\n",
       "      <td>0.003457</td>\n",
       "      <td>0.000073</td>\n",
       "      <td>94.7033</td>\n",
       "      <td>5.7435</td>\n",
       "      <td>78678.082192</td>\n",
       "      <td>40983.090909</td>\n",
       "      <td>0.000000</td>\n",
       "      <td>Regular</td>\n",
       "    </tr>\n",
       "    <tr>\n",
       "      <th>15</th>\n",
       "      <td>Story1</td>\n",
       "      <td>SDx Max</td>\n",
       "      <td>0.002632</td>\n",
       "      <td>6.5E-05</td>\n",
       "      <td>0.002632</td>\n",
       "      <td>0.000065</td>\n",
       "      <td>114.6661</td>\n",
       "      <td>7.1651</td>\n",
       "      <td>110232.307692</td>\n",
       "      <td>55074.657534</td>\n",
       "      <td>37085.205756</td>\n",
       "      <td>Regular</td>\n",
       "    </tr>\n",
       "  </tbody>\n",
       "</table>\n",
       "</div>"
      ],
      "text/plain": [
       "     Story OutputCase        UX        UY       ΔUX       ΔUY        VX  \\\n",
       "12  Story4    SDx Max  0.013224  0.000433  0.003810  0.000240    6.9464   \n",
       "13  Story3    SDx Max  0.009414  0.000193  0.003325  0.000055   54.3649   \n",
       "14  Story2    SDx Max  0.006089  0.000138  0.003457  0.000073   94.7033   \n",
       "15  Story1    SDx Max  0.002632   6.5E-05  0.002632  0.000065  114.6661   \n",
       "\n",
       "        VY     lat_rig(k)    0.7_prev_k     0.8k_prom   is_reg  \n",
       "12  0.4426    1844.166667      0.000000      0.000000  Regular  \n",
       "13  3.2201   58547.272727   1290.916667      0.000000  Regular  \n",
       "14  5.7435   78678.082192  40983.090909      0.000000  Regular  \n",
       "15  7.1651  110232.307692  55074.657534  37085.205756  Regular  "
      ]
     },
     "metadata": {},
     "output_type": "display_data"
    }
   ],
   "source": [
    "sismo.show_table(sismo.tables.piso_blando_table)"
   ]
  },
  {
   "cell_type": "markdown",
   "metadata": {},
   "source": [
    "## Revisión por Irregularidad de Masa"
   ]
  },
  {
   "cell_type": "code",
   "execution_count": 33,
   "metadata": {},
   "outputs": [
    {
     "data": {
      "text/html": [
       "<div>\n",
       "<style scoped>\n",
       "    .dataframe tbody tr th:only-of-type {\n",
       "        vertical-align: middle;\n",
       "    }\n",
       "\n",
       "    .dataframe tbody tr th {\n",
       "        vertical-align: top;\n",
       "    }\n",
       "\n",
       "    .dataframe thead th {\n",
       "        text-align: right;\n",
       "    }\n",
       "</style>\n",
       "<table border=\"1\" class=\"dataframe\">\n",
       "  <thead>\n",
       "    <tr style=\"text-align: right;\">\n",
       "      <th></th>\n",
       "      <th>Story</th>\n",
       "      <th>Mass</th>\n",
       "      <th>1.5 Mass</th>\n",
       "      <th>story_type</th>\n",
       "      <th>is_regular</th>\n",
       "    </tr>\n",
       "  </thead>\n",
       "  <tbody>\n",
       "    <tr>\n",
       "      <th>0</th>\n",
       "      <td>Story4</td>\n",
       "      <td>0.76938</td>\n",
       "      <td></td>\n",
       "      <td>Azotea</td>\n",
       "      <td>Regular</td>\n",
       "    </tr>\n",
       "    <tr>\n",
       "      <th>1</th>\n",
       "      <td>Story3</td>\n",
       "      <td>9.56556</td>\n",
       "      <td>14.34834</td>\n",
       "      <td>Piso</td>\n",
       "      <td>Regular</td>\n",
       "    </tr>\n",
       "    <tr>\n",
       "      <th>2</th>\n",
       "      <td>Story2</td>\n",
       "      <td>12.89374</td>\n",
       "      <td>19.34061</td>\n",
       "      <td>Piso</td>\n",
       "      <td>Regular</td>\n",
       "    </tr>\n",
       "    <tr>\n",
       "      <th>3</th>\n",
       "      <td>Story1</td>\n",
       "      <td>13.32974</td>\n",
       "      <td>19.99461</td>\n",
       "      <td>Piso</td>\n",
       "      <td>Regular</td>\n",
       "    </tr>\n",
       "    <tr>\n",
       "      <th>4</th>\n",
       "      <td>Base</td>\n",
       "      <td>2.73697</td>\n",
       "      <td></td>\n",
       "      <td>Sotano</td>\n",
       "      <td>Regular</td>\n",
       "    </tr>\n",
       "  </tbody>\n",
       "</table>\n",
       "</div>"
      ],
      "text/plain": [
       "    Story      Mass  1.5 Mass story_type is_regular\n",
       "0  Story4   0.76938               Azotea    Regular\n",
       "1  Story3   9.56556  14.34834       Piso    Regular\n",
       "2  Story2  12.89374  19.34061       Piso    Regular\n",
       "3  Story1  13.32974  19.99461       Piso    Regular\n",
       "4    Base   2.73697               Sotano    Regular"
      ]
     },
     "execution_count": 33,
     "metadata": {},
     "output_type": "execute_result"
    }
   ],
   "source": [
    "sismo.tables.rev_masa_table"
   ]
  },
  {
   "cell_type": "markdown",
   "metadata": {},
   "source": [
    "## Revisión de torsión"
   ]
  },
  {
   "cell_type": "code",
   "execution_count": 34,
   "metadata": {},
   "outputs": [
    {
     "data": {
      "application/vnd.jupyter.widget-view+json": {
       "model_id": "55da38d82730465783cdb67cf3bd073e",
       "version_major": 2,
       "version_minor": 0
      },
      "text/plain": [
       "Dropdown(description='Filtro', index=3, options=('SDx Max', 'SDy Max', 'Sx ', 'Sy ', 'sin filtro'), style=Desc…"
      ]
     },
     "metadata": {},
     "output_type": "display_data"
    },
    {
     "data": {
      "text/html": [
       "<div>\n",
       "<style scoped>\n",
       "    .dataframe tbody tr th:only-of-type {\n",
       "        vertical-align: middle;\n",
       "    }\n",
       "\n",
       "    .dataframe tbody tr th {\n",
       "        vertical-align: top;\n",
       "    }\n",
       "\n",
       "    .dataframe thead th {\n",
       "        text-align: right;\n",
       "    }\n",
       "</style>\n",
       "<table border=\"1\" class=\"dataframe\">\n",
       "  <thead>\n",
       "    <tr style=\"text-align: right;\">\n",
       "      <th></th>\n",
       "      <th>Story</th>\n",
       "      <th>OutputCase</th>\n",
       "      <th>Direction</th>\n",
       "      <th>Max Drift</th>\n",
       "      <th>Avg Drift</th>\n",
       "      <th>Ratio</th>\n",
       "      <th>Height</th>\n",
       "      <th>Drifts</th>\n",
       "      <th>Drift &lt; Dmax/2</th>\n",
       "      <th>tor_reg</th>\n",
       "    </tr>\n",
       "  </thead>\n",
       "  <tbody>\n",
       "    <tr>\n",
       "      <th>4</th>\n",
       "      <td>Story4</td>\n",
       "      <td>Sy</td>\n",
       "      <td>Y</td>\n",
       "      <td>0.000785</td>\n",
       "      <td>0.000741</td>\n",
       "      <td>1.058</td>\n",
       "      <td>2.3</td>\n",
       "      <td>0.002355</td>\n",
       "      <td>True</td>\n",
       "      <td>Regular</td>\n",
       "    </tr>\n",
       "    <tr>\n",
       "      <th>9</th>\n",
       "      <td>Story3</td>\n",
       "      <td>Sy</td>\n",
       "      <td>Y</td>\n",
       "      <td>0.000876</td>\n",
       "      <td>0.000745</td>\n",
       "      <td>1.176</td>\n",
       "      <td>3</td>\n",
       "      <td>0.002628</td>\n",
       "      <td>False</td>\n",
       "      <td>Regular</td>\n",
       "    </tr>\n",
       "    <tr>\n",
       "      <th>14</th>\n",
       "      <td>Story2</td>\n",
       "      <td>Sy</td>\n",
       "      <td>Y</td>\n",
       "      <td>0.001109</td>\n",
       "      <td>0.000982</td>\n",
       "      <td>1.13</td>\n",
       "      <td>3</td>\n",
       "      <td>0.003327</td>\n",
       "      <td>False</td>\n",
       "      <td>Regular</td>\n",
       "    </tr>\n",
       "    <tr>\n",
       "      <th>19</th>\n",
       "      <td>Story1</td>\n",
       "      <td>Sy</td>\n",
       "      <td>Y</td>\n",
       "      <td>0.001106</td>\n",
       "      <td>0.001028</td>\n",
       "      <td>1.076</td>\n",
       "      <td>3.3</td>\n",
       "      <td>0.003318</td>\n",
       "      <td>False</td>\n",
       "      <td>Regular</td>\n",
       "    </tr>\n",
       "  </tbody>\n",
       "</table>\n",
       "</div>"
      ],
      "text/plain": [
       "     Story OutputCase Direction Max Drift Avg Drift  Ratio Height    Drifts  \\\n",
       "4   Story4        Sy          Y  0.000785  0.000741  1.058    2.3  0.002355   \n",
       "9   Story3        Sy          Y  0.000876  0.000745  1.176      3  0.002628   \n",
       "14  Story2        Sy          Y  0.001109  0.000982   1.13      3  0.003327   \n",
       "19  Story1        Sy          Y  0.001106  0.001028  1.076    3.3  0.003318   \n",
       "\n",
       "    Drift < Dmax/2  tor_reg  \n",
       "4             True  Regular  \n",
       "9            False  Regular  \n",
       "14           False  Regular  \n",
       "19           False  Regular  "
      ]
     },
     "metadata": {},
     "output_type": "display_data"
    }
   ],
   "source": [
    "sismo.show_table(sismo.tables.torsion_table)"
   ]
  },
  {
   "cell_type": "markdown",
   "metadata": {},
   "source": [
    "## Derivas"
   ]
  },
  {
   "cell_type": "code",
   "execution_count": 35,
   "metadata": {},
   "outputs": [
    {
     "data": {
      "application/vnd.jupyter.widget-view+json": {
       "model_id": "0809ff0121b44d84ab149b48a1d8df91",
       "version_major": 2,
       "version_minor": 0
      },
      "text/plain": [
       "Dropdown(description='Filtro', options=('SDx Max', 'SDy Max', 'Sx ', 'Sy ', 'sin filtro'), style=DescriptionSt…"
      ]
     },
     "metadata": {},
     "output_type": "display_data"
    },
    {
     "data": {
      "text/html": [
       "<div>\n",
       "<style scoped>\n",
       "    .dataframe tbody tr th:only-of-type {\n",
       "        vertical-align: middle;\n",
       "    }\n",
       "\n",
       "    .dataframe tbody tr th {\n",
       "        vertical-align: top;\n",
       "    }\n",
       "\n",
       "    .dataframe thead th {\n",
       "        text-align: right;\n",
       "    }\n",
       "</style>\n",
       "<table border=\"1\" class=\"dataframe\">\n",
       "  <thead>\n",
       "    <tr style=\"text-align: right;\">\n",
       "      <th></th>\n",
       "      <th>Story</th>\n",
       "      <th>OutputCase</th>\n",
       "      <th>Direction</th>\n",
       "      <th>Drifts</th>\n",
       "      <th>Drift_Check</th>\n",
       "    </tr>\n",
       "  </thead>\n",
       "  <tbody>\n",
       "    <tr>\n",
       "      <th>0</th>\n",
       "      <td>Story4</td>\n",
       "      <td>SDx Max</td>\n",
       "      <td>X</td>\n",
       "      <td>0.009135</td>\n",
       "      <td>No Cumple</td>\n",
       "    </tr>\n",
       "    <tr>\n",
       "      <th>5</th>\n",
       "      <td>Story3</td>\n",
       "      <td>SDx Max</td>\n",
       "      <td>X</td>\n",
       "      <td>0.010491</td>\n",
       "      <td>No Cumple</td>\n",
       "    </tr>\n",
       "    <tr>\n",
       "      <th>10</th>\n",
       "      <td>Story2</td>\n",
       "      <td>SDx Max</td>\n",
       "      <td>X</td>\n",
       "      <td>0.011874</td>\n",
       "      <td>No Cumple</td>\n",
       "    </tr>\n",
       "    <tr>\n",
       "      <th>15</th>\n",
       "      <td>Story1</td>\n",
       "      <td>SDx Max</td>\n",
       "      <td>X</td>\n",
       "      <td>0.009678</td>\n",
       "      <td>No Cumple</td>\n",
       "    </tr>\n",
       "  </tbody>\n",
       "</table>\n",
       "</div>"
      ],
      "text/plain": [
       "     Story OutputCase Direction    Drifts Drift_Check\n",
       "0   Story4    SDx Max         X  0.009135   No Cumple\n",
       "5   Story3    SDx Max         X  0.010491   No Cumple\n",
       "10  Story2    SDx Max         X  0.011874   No Cumple\n",
       "15  Story1    SDx Max         X  0.009678   No Cumple"
      ]
     },
     "metadata": {},
     "output_type": "display_data"
    }
   ],
   "source": [
    "sismo.show_table(sismo.tables.drift_table)"
   ]
  },
  {
   "cell_type": "markdown",
   "metadata": {},
   "source": [
    "# Fuerza Cortante Mínima"
   ]
  },
  {
   "cell_type": "code",
   "execution_count": 36,
   "metadata": {},
   "outputs": [
    {
     "data": {
      "text/html": [
       "<style type=\"text/css\">\n",
       "</style>\n",
       "<table id=\"T_1e801\">\n",
       "  <thead>\n",
       "  </thead>\n",
       "  <tbody>\n",
       "    <tr>\n",
       "      <td id=\"T_1e801_row0_col0\" class=\"data row0 col0\" ></td>\n",
       "      <td id=\"T_1e801_row0_col1\" class=\"data row0 col1\" >X</td>\n",
       "      <td id=\"T_1e801_row0_col2\" class=\"data row0 col2\" >Y</td>\n",
       "    </tr>\n",
       "    <tr>\n",
       "      <td id=\"T_1e801_row1_col0\" class=\"data row1 col0\" >V din (Ton)</td>\n",
       "      <td id=\"T_1e801_row1_col1\" class=\"data row1 col1\" >114.666100</td>\n",
       "      <td id=\"T_1e801_row1_col2\" class=\"data row1 col2\" >113.995200</td>\n",
       "    </tr>\n",
       "    <tr>\n",
       "      <td id=\"T_1e801_row2_col0\" class=\"data row2 col0\" >V est (Ton)</td>\n",
       "      <td id=\"T_1e801_row2_col1\" class=\"data row2 col1\" >-141.183500</td>\n",
       "      <td id=\"T_1e801_row2_col2\" class=\"data row2 col2\" >-141.183500</td>\n",
       "    </tr>\n",
       "    <tr>\n",
       "      <td id=\"T_1e801_row3_col0\" class=\"data row3 col0\" >% min</td>\n",
       "      <td id=\"T_1e801_row3_col1\" class=\"data row3 col1\" >80</td>\n",
       "      <td id=\"T_1e801_row3_col2\" class=\"data row3 col2\" >80</td>\n",
       "    </tr>\n",
       "    <tr>\n",
       "      <td id=\"T_1e801_row4_col0\" class=\"data row4 col0\" >%</td>\n",
       "      <td id=\"T_1e801_row4_col1\" class=\"data row4 col1\" >81.220000</td>\n",
       "      <td id=\"T_1e801_row4_col2\" class=\"data row4 col2\" >80.740000</td>\n",
       "    </tr>\n",
       "    <tr>\n",
       "      <td id=\"T_1e801_row5_col0\" class=\"data row5 col0\" >F.E.</td>\n",
       "      <td id=\"T_1e801_row5_col1\" class=\"data row5 col1\" >1</td>\n",
       "      <td id=\"T_1e801_row5_col2\" class=\"data row5 col2\" >1</td>\n",
       "    </tr>\n",
       "  </tbody>\n",
       "</table>\n"
      ],
      "text/plain": [
       "<pandas.io.formats.style.Styler at 0x164eb6150d0>"
      ]
     },
     "execution_count": 36,
     "metadata": {},
     "output_type": "execute_result"
    }
   ],
   "source": [
    "sismo.tables.shear_table.style.hide(axis='index').hide(axis='columns')"
   ]
  },
  {
   "cell_type": "markdown",
   "metadata": {},
   "source": [
    "# Generación de reporte"
   ]
  },
  {
   "cell_type": "code",
   "execution_count": 45,
   "metadata": {},
   "outputs": [
    {
     "name": "stdout",
     "output_type": "stream",
     "text": [
      "Initial Win CP for (console input, console output, system): (CP850, CP65001, CP1252)\r\n",
      "I changed them all to CP1252\r\n",
      "Rc files read:\r\n",
      "  NONE\r\n",
      "Latexmk: This is Latexmk, John Collins, 18 Nov. 2022. Version 4.78, version: 4.78.\r\n",
      "After making new aux file, require run of *latex.\r\n",
      "Latexmk: applying rule 'pdflatex'...\r\n",
      "Rule 'pdflatex':  Reasons for rerun\r\n",
      "Category 'other':\r\n",
      "  Rerun of 'pdflatex' forced or previously required\r\n",
      "\r\n",
      "------------\r\n",
      "Run number 1 of rule 'pdflatex'\r\n",
      "------------\r\n",
      "------------\r\n",
      "Running 'pdflatex  --interaction=nonstopmode -recorder  \"D:/CARPETAS W10/Escritorio/GITHUB/automatizacion_estructural/out/Memoria Sismo2.tex\"'\r\n",
      "------------\r\n",
      "This is pdfTeX, Version 3.141592653-2.6-1.40.24 (MiKTeX 23.1) (preloaded format=pdflatex.fmt)\r\n",
      " restricted \\write18 enabled.\r\n",
      "entering extended mode\r\n",
      "\r\n",
      "(D:/CARPETAS W10/Escritorio/GITHUB/automatizacion_estructural/out/Memoria Sismo\r\n",
      "2.tex\r\n",
      "LaTeX2e <2022-11-01> patch level 1\r\n",
      "L3 programming layer <2023-02-07>\r\n",
      "(C:\\Users\\civil\\AppData\\Local\\Programs\\MiKTeX\\tex/latex/base\\article.cls\r\n",
      "Document Class: article 2022/07/02 v1.4n Standard LaTeX document class\r\n",
      "(C:\\Users\\civil\\AppData\\Local\\Programs\\MiKTeX\\tex/latex/base\\size10.clo))\r\n",
      "(C:\\Users\\civil\\AppData\\Local\\Programs\\MiKTeX\\tex/latex/base\\fontenc.sty)\r\n",
      "(C:\\Users\\civil\\AppData\\Local\\Programs\\MiKTeX\\tex/latex/base\\inputenc.sty)\r\n",
      "(C:\\Users\\civil\\AppData\\Local\\Programs\\MiKTeX\\tex/latex/lm\\lmodern.sty)\r\n",
      "(C:\\Users\\civil\\AppData\\Local\\Programs\\MiKTeX\\tex/latex/base\\textcomp.sty)\r\n",
      "(C:\\Users\\civil\\AppData\\Local\\Programs\\MiKTeX\\tex/latex/lastpage\\lastpage.sty)\r\n",
      "\r\n",
      "! LaTeX Error: File `geometry.sty' not found.\r\n",
      "\r\n",
      "Type X to quit or <RETURN> to proceed,\r\n",
      "or enter new name. (Default extension: sty)\r\n",
      "\r\n",
      "Enter file name: \r\n",
      "! Emergency stop.\r\n",
      "<read *> \r\n",
      "         \r\n",
      "l.8 \\geometry\r\n",
      "             {left=2.5cm,top=1.5cm}%^^M\r\n",
      "!  ==> Fatal error occurred, no output PDF file produced!\r\n",
      "Transcript written on \"Memoria Sismo2.log\".\r\n",
      "Latexmk: Missing input file 'geometry.sty' (or dependence on it) from following:\r\n",
      "  ! LaTeX Error: File `geometry.sty' not found.\r\n",
      "Latexmk: If appropriate, the -f option can be used to get latexmk\r\n",
      "  to try to force complete processing.\r\n",
      "Reverting Windows console CPs to (in,out) = (850,65001)\r\n",
      "Latexmk: Getting log file 'Memoria Sismo2.log'\r\n",
      "Latexmk: Examining 'Memoria Sismo2.fls'\r\n",
      "Latexmk: Examining 'Memoria Sismo2.log'\r\n",
      "Latexmk: Errors, so I did not complete making targets\r\n",
      "Collected error summary (may duplicate other messages):\r\n",
      "  pdflatex: Command for 'pdflatex' gave return code 1\r\n",
      "      Refer to 'Memoria Sismo2.log' and/or above output for details\r\n",
      "\r\n",
      "\n"
     ]
    },
    {
     "ename": "CalledProcessError",
     "evalue": "Command '['latexmk', '--pdf', '--interaction=nonstopmode', 'D:\\\\CARPETAS W10\\\\Escritorio\\\\GITHUB\\\\automatizacion_estructural\\\\out\\\\Memoria Sismo2.tex']' returned non-zero exit status 12.",
     "output_type": "error",
     "traceback": [
      "\u001b[1;31m---------------------------------------------------------------------------\u001b[0m",
      "\u001b[1;31mCalledProcessError\u001b[0m                        Traceback (most recent call last)",
      "Cell \u001b[1;32mIn[45], line 1\u001b[0m\n\u001b[1;32m----> 1\u001b[0m \u001b[43msismo\u001b[49m\u001b[38;5;241;43m.\u001b[39;49m\u001b[43mgenerate_memoria\u001b[49m\u001b[43m(\u001b[49m\u001b[43m)\u001b[49m\n",
      "File \u001b[1;32mD:\\CARPETAS W10\\Escritorio\\GITHUB\\automatizacion_estructural\\lib\\sismo_utils.py:541\u001b[0m, in \u001b[0;36mSismo_e30.generate_memoria\u001b[1;34m(self)\u001b[0m\n\u001b[0;32m    538\u001b[0m     sec\u001b[38;5;241m.\u001b[39mappend(i)\n\u001b[0;32m    540\u001b[0m doc\u001b[38;5;241m.\u001b[39mappend(sec)\n\u001b[1;32m--> 541\u001b[0m \u001b[43mdoc\u001b[49m\u001b[38;5;241;43m.\u001b[39;49m\u001b[43mgenerate_pdf\u001b[49m\u001b[43m(\u001b[49m\u001b[38;5;124;43m'\u001b[39;49m\u001b[38;5;124;43mout/Memoria Sismo2\u001b[39;49m\u001b[38;5;124;43m'\u001b[39;49m\u001b[43m)\u001b[49m\n\u001b[0;32m    542\u001b[0m doc\u001b[38;5;241m.\u001b[39mgenerate_tex(\u001b[38;5;124m'\u001b[39m\u001b[38;5;124mout/Memoria Sismo2\u001b[39m\u001b[38;5;124m'\u001b[39m)\n",
      "File \u001b[1;32m~\\anaconda3\\envs\\SISMOE030\\lib\\site-packages\\pylatex\\document.py:250\u001b[0m, in \u001b[0;36mDocument.generate_pdf\u001b[1;34m(self, filepath, clean, clean_tex, compiler, compiler_args, silent)\u001b[0m\n\u001b[0;32m    247\u001b[0m command \u001b[38;5;241m=\u001b[39m [compiler] \u001b[38;5;241m+\u001b[39m arguments \u001b[38;5;241m+\u001b[39m compiler_args \u001b[38;5;241m+\u001b[39m main_arguments\n\u001b[0;32m    249\u001b[0m \u001b[38;5;28;01mtry\u001b[39;00m:\n\u001b[1;32m--> 250\u001b[0m     output \u001b[38;5;241m=\u001b[39m subprocess\u001b[38;5;241m.\u001b[39mcheck_output(command,\n\u001b[0;32m    251\u001b[0m                                      stderr\u001b[38;5;241m=\u001b[39msubprocess\u001b[38;5;241m.\u001b[39mSTDOUT,\n\u001b[0;32m    252\u001b[0m                                      \u001b[38;5;241m*\u001b[39m\u001b[38;5;241m*\u001b[39mcheck_output_kwargs)\n\u001b[0;32m    253\u001b[0m \u001b[38;5;28;01mexcept\u001b[39;00m (\u001b[38;5;167;01mOSError\u001b[39;00m, \u001b[38;5;167;01mIOError\u001b[39;00m) \u001b[38;5;28;01mas\u001b[39;00m e:\n\u001b[0;32m    254\u001b[0m     \u001b[38;5;66;03m# Use FileNotFoundError when python 2 is dropped\u001b[39;00m\n\u001b[0;32m    255\u001b[0m     os_error \u001b[38;5;241m=\u001b[39m e\n",
      "File \u001b[1;32m~\\anaconda3\\envs\\SISMOE030\\lib\\subprocess.py:424\u001b[0m, in \u001b[0;36mcheck_output\u001b[1;34m(timeout, *popenargs, **kwargs)\u001b[0m\n\u001b[0;32m    421\u001b[0m         empty \u001b[38;5;241m=\u001b[39m \u001b[38;5;124mb\u001b[39m\u001b[38;5;124m'\u001b[39m\u001b[38;5;124m'\u001b[39m\n\u001b[0;32m    422\u001b[0m     kwargs[\u001b[38;5;124m'\u001b[39m\u001b[38;5;124minput\u001b[39m\u001b[38;5;124m'\u001b[39m] \u001b[38;5;241m=\u001b[39m empty\n\u001b[1;32m--> 424\u001b[0m \u001b[38;5;28;01mreturn\u001b[39;00m run(\u001b[38;5;241m*\u001b[39mpopenargs, stdout\u001b[38;5;241m=\u001b[39mPIPE, timeout\u001b[38;5;241m=\u001b[39mtimeout, check\u001b[38;5;241m=\u001b[39m\u001b[38;5;28;01mTrue\u001b[39;00m,\n\u001b[0;32m    425\u001b[0m            \u001b[38;5;241m*\u001b[39m\u001b[38;5;241m*\u001b[39mkwargs)\u001b[38;5;241m.\u001b[39mstdout\n",
      "File \u001b[1;32m~\\anaconda3\\envs\\SISMOE030\\lib\\subprocess.py:528\u001b[0m, in \u001b[0;36mrun\u001b[1;34m(input, capture_output, timeout, check, *popenargs, **kwargs)\u001b[0m\n\u001b[0;32m    526\u001b[0m     retcode \u001b[38;5;241m=\u001b[39m process\u001b[38;5;241m.\u001b[39mpoll()\n\u001b[0;32m    527\u001b[0m     \u001b[38;5;28;01mif\u001b[39;00m check \u001b[38;5;129;01mand\u001b[39;00m retcode:\n\u001b[1;32m--> 528\u001b[0m         \u001b[38;5;28;01mraise\u001b[39;00m CalledProcessError(retcode, process\u001b[38;5;241m.\u001b[39margs,\n\u001b[0;32m    529\u001b[0m                                  output\u001b[38;5;241m=\u001b[39mstdout, stderr\u001b[38;5;241m=\u001b[39mstderr)\n\u001b[0;32m    530\u001b[0m \u001b[38;5;28;01mreturn\u001b[39;00m CompletedProcess(process\u001b[38;5;241m.\u001b[39margs, retcode, stdout, stderr)\n",
      "\u001b[1;31mCalledProcessError\u001b[0m: Command '['latexmk', '--pdf', '--interaction=nonstopmode', 'D:\\\\CARPETAS W10\\\\Escritorio\\\\GITHUB\\\\automatizacion_estructural\\\\out\\\\Memoria Sismo2.tex']' returned non-zero exit status 12."
     ]
    }
   ],
   "source": [
    "sismo.generate_memoria()"
   ]
  }
 ],
 "metadata": {
  "kernelspec": {
   "display_name": "Python 3 (ipykernel)",
   "language": "python",
   "name": "python3"
  },
  "language_info": {
   "codemirror_mode": {
    "name": "ipython",
    "version": 3
   },
   "file_extension": ".py",
   "mimetype": "text/x-python",
   "name": "python",
   "nbconvert_exporter": "python",
   "pygments_lexer": "ipython3",
   "version": "3.9.16"
  },
  "toc-showmarkdowntxt": true,
  "vscode": {
   "interpreter": {
    "hash": "bac46d45b902eb1257731b3cec425c94a9ada4fac09ba91d7557c516a1f31c36"
   }
  }
 },
 "nbformat": 4,
 "nbformat_minor": 4
}
