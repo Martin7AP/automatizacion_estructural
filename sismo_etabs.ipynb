{
 "cells": [
  {
   "cell_type": "markdown",
   "metadata": {},
   "source": [
    "# Análisis Sísmico"
   ]
  },
  {
   "cell_type": "code",
   "execution_count": 32,
   "metadata": {},
   "outputs": [
    {
     "name": "stdout",
     "output_type": "stream",
     "text": [
      "The autoreload extension is already loaded. To reload it, use:\n",
      "  %reload_ext autoreload\n"
     ]
    }
   ],
   "source": [
    "#Importar las librerías necesarias\n",
    "%load_ext autoreload\n",
    "%autoreload 2\n",
    "import os\n",
    "import sys\n",
    "import numpy\n",
    "sys.path.append(os.getcwd())\n",
    "from utils import etabs_utils as etb\n",
    "from utils import sismo_utils as sis\n",
    "from utils import notebook_utils as ntb\n",
    "#from mem import sismo_mem as smem\n",
    "from ipywidgets import widgets\n",
    "from IPython.display import display\n"
   ]
  },
  {
   "cell_type": "code",
   "execution_count": 33,
   "metadata": {},
   "outputs": [],
   "source": [
    "_,SapModel = etb.connect_to_etabs()"
   ]
  },
  {
   "cell_type": "code",
   "execution_count": 34,
   "metadata": {},
   "outputs": [],
   "source": [
    "sismo = ntb.Sismo()"
   ]
  },
  {
   "cell_type": "markdown",
   "metadata": {},
   "source": [
    "# Parámetros de Sitio\n",
    "\n",
    "## Zonificación\n",
    "![Factor de Zonifiación](./images/factor_zona.png)"
   ]
  },
  {
   "cell_type": "markdown",
   "metadata": {},
   "source": [
    "## Factor de Suelo\n",
    "![Factor de Suelo](./images/factor_suelo.png)\n"
   ]
  },
  {
   "cell_type": "markdown",
   "metadata": {},
   "source": [
    "## Periodos del suelo\n",
    "![Periodos del Suelo](./images/periodos_suelo.png)"
   ]
  },
  {
   "cell_type": "markdown",
   "metadata": {},
   "source": [
    "## Sistema Estructural\n",
    "![Sistema Estructural](./images/sistemas_estructurales.png)"
   ]
  },
  {
   "cell_type": "markdown",
   "metadata": {},
   "source": [
    "## Factor de Amplificación sísmica\n",
    "![Factor de Amplificacion Sísmica](./images/amplificacion_sismica.png)"
   ]
  },
  {
   "cell_type": "markdown",
   "metadata": {},
   "source": [
    "## Factor de Importancia\n",
    "![Factor de Importancia](./images//factor_importancia.png)"
   ]
  },
  {
   "cell_type": "code",
   "execution_count": 8,
   "metadata": {},
   "outputs": [
    {
     "data": {
      "application/vnd.jupyter.widget-view+json": {
       "model_id": "06ff023156e14dee90bf90a18b5d5291",
       "version_major": 2,
       "version_minor": 0
      },
      "text/plain": [
       "VBox(children=(Dropdown(description='Factor Zona', index=3, options=(1, 2, 3, 4), style=DescriptionStyle(descr…"
      ]
     },
     "metadata": {},
     "output_type": "display_data"
    }
   ],
   "source": [
    "sismo.parametros_e30()"
   ]
  },
  {
   "cell_type": "markdown",
   "metadata": {},
   "source": [
    "# Irregularidades"
   ]
  },
  {
   "cell_type": "code",
   "execution_count": 9,
   "metadata": {},
   "outputs": [
    {
     "data": {
      "application/vnd.jupyter.widget-view+json": {
       "model_id": "8e3dc2cd551241508212aa42f5740554",
       "version_major": 2,
       "version_minor": 0
      },
      "text/plain": [
       "HBox(children=(VBox(children=(HTML(value='<b>Irregularidad en Altura</b>'), Checkbox(value=False, description=…"
      ]
     },
     "execution_count": 9,
     "metadata": {},
     "output_type": "execute_result"
    }
   ],
   "source": [
    "sismo.irregularidades_e30()"
   ]
  },
  {
   "cell_type": "markdown",
   "metadata": {},
   "source": [
    "# Parámetros Sísmicos"
   ]
  },
  {
   "cell_type": "code",
   "execution_count": 10,
   "metadata": {},
   "outputs": [
    {
     "name": "stdout",
     "output_type": "stream",
     "text": [
      "\n",
      "\u001b[1m Parámetros de sitio:\u001b[0m\n",
      "Factor de zona: \n",
      "    Z=0.45\n",
      "Factor de Importancia: \n",
      "    U=1.00\n",
      "Factor de Suelo: \n",
      "    S=1.05\n",
      "Periodos del Suelo: \n",
      "    Tp=0.60\n",
      "    Tl=2.00\n",
      "Factor Básico de Reducción:\n",
      "    Rox=3.00\n",
      "    Roy=3.00\n",
      "Irregularidad en planta:\n",
      "    Ip=1.00\n",
      "Irregularidad en altura:\n",
      "    Ia=1.00\n",
      "Factor de Reducción:\n",
      "    Rx=3.00\n",
      "    Ry=3.00\n",
      "\n"
     ]
    }
   ],
   "source": [
    "sismo.show_params()"
   ]
  },
  {
   "cell_type": "code",
   "execution_count": 11,
   "metadata": {},
   "outputs": [
    {
     "data": {
      "application/vnd.jupyter.widget-view+json": {
       "model_id": "e3bf2ab5021c42cdbe4d68427aaaf01b",
       "version_major": 2,
       "version_minor": 0
      },
      "text/plain": [
       "HBox(children=(VBox(children=(HTML(value='<b>Dirección X</b>'), Dropdown(description='Sismo Estatico en X', in…"
      ]
     },
     "execution_count": 11,
     "metadata": {},
     "output_type": "execute_result"
    }
   ],
   "source": [
    "sismo.select_loads(SapModel)"
   ]
  },
  {
   "cell_type": "code",
   "execution_count": 12,
   "metadata": {},
   "outputs": [
    {
     "data": {
      "application/vnd.jupyter.widget-view+json": {
       "model_id": "7ef3025e6c134202a291a35084546d4c",
       "version_major": 2,
       "version_minor": 0
      },
      "text/plain": [
       "Dropdown(description='Piso Base', options=('Story1', 'Story2', 'Story3', 'Story4'), style=DescriptionStyle(des…"
      ]
     },
     "execution_count": 12,
     "metadata": {},
     "output_type": "execute_result"
    }
   ],
   "source": [
    "sismo.select_base_story(SapModel)"
   ]
  },
  {
   "cell_type": "code",
   "execution_count": 13,
   "metadata": {},
   "outputs": [
    {
     "ename": "KeyError",
     "evalue": "<POINTER(cSapModel) ptr=0x2b4a4eefea0 at 2b4a3c81340>",
     "output_type": "error",
     "traceback": [
      "\u001b[1;31m---------------------------------------------------------------------------\u001b[0m",
      "\u001b[1;31mTypeError\u001b[0m                                 Traceback (most recent call last)",
      "File \u001b[1;32mD:\\CARPETAS W10\\Escritorio\\GITHUB\\automatizacion_estructural\\utils\\notebook_utils.py:380\u001b[0m, in \u001b[0;36mSismo.analisis_sismo\u001b[1;34m(self, SapModel)\u001b[0m\n\u001b[0;32m    379\u001b[0m \u001b[38;5;28;01mtry\u001b[39;00m:\n\u001b[1;32m--> 380\u001b[0m     \u001b[38;5;28;43msuper\u001b[39;49m\u001b[43m(\u001b[49m\u001b[43m)\u001b[49m\u001b[38;5;241;43m.\u001b[39;49m\u001b[43manalisis_sismo\u001b[49m\u001b[43m(\u001b[49m\u001b[43mSapModel\u001b[49m\u001b[43m)\u001b[49m\n\u001b[0;32m    381\u001b[0m \u001b[38;5;28;01mexcept\u001b[39;00m:\n",
      "File \u001b[1;32mD:\\CARPETAS W10\\Escritorio\\GITHUB\\automatizacion_estructural\\utils\\sismo_utils.py:514\u001b[0m, in \u001b[0;36mSismo_e30.analisis_sismo\u001b[1;34m(self, SapModel)\u001b[0m\n\u001b[0;32m    513\u001b[0m \u001b[38;5;28mself\u001b[39m\u001b[38;5;241m.\u001b[39mpiso_blando(SapModel)\n\u001b[1;32m--> 514\u001b[0m \u001b[38;5;28;43mself\u001b[39;49m\u001b[38;5;241;43m.\u001b[39;49m\u001b[43mirregularidad_masa\u001b[49m\u001b[43m(\u001b[49m\u001b[43mSapModel\u001b[49m\u001b[43m)\u001b[49m\n\u001b[0;32m    515\u001b[0m \u001b[38;5;66;03m#self.centro_masa_inercia(SapModel)\u001b[39;00m\n",
      "File \u001b[1;32mD:\\CARPETAS W10\\Escritorio\\GITHUB\\automatizacion_estructural\\utils\\sismo_utils.py:435\u001b[0m, in \u001b[0;36mSismo_e30.irregularidad_masa\u001b[1;34m(self, SapModel)\u001b[0m\n\u001b[0;32m    434\u001b[0m stories \u001b[38;5;241m=\u001b[39m masa\u001b[38;5;241m.\u001b[39mStory\n\u001b[1;32m--> 435\u001b[0m sotanos \u001b[38;5;241m=\u001b[39m \u001b[38;5;28mlist\u001b[39m(stories[\u001b[38;5;241;43m-\u001b[39;49m\u001b[38;5;241;43m1\u001b[39;49m\u001b[38;5;241;43m-\u001b[39;49m\u001b[38;5;28;43mself\u001b[39;49m\u001b[38;5;241;43m.\u001b[39;49m\u001b[43mdata\u001b[49m\u001b[38;5;241;43m.\u001b[39;49m\u001b[43mn_sotanos\u001b[49m:])\n\u001b[0;32m    436\u001b[0m azoteas \u001b[38;5;241m=\u001b[39m \u001b[38;5;28mlist\u001b[39m(stories[\u001b[38;5;241m0\u001b[39m:\u001b[38;5;28mself\u001b[39m\u001b[38;5;241m.\u001b[39mdata\u001b[38;5;241m.\u001b[39mn_azoteas\u001b[38;5;241m+\u001b[39m\u001b[38;5;241m1\u001b[39m])\n",
      "\u001b[1;31mTypeError\u001b[0m: unsupported operand type(s) for -: 'int' and 'str'",
      "\nDuring handling of the above exception, another exception occurred:\n",
      "\u001b[1;31mKeyError\u001b[0m                                  Traceback (most recent call last)",
      "File \u001b[1;32m~\\anaconda3\\envs\\SISMOE030\\lib\\site-packages\\pandas\\core\\indexes\\base.py:3802\u001b[0m, in \u001b[0;36mIndex.get_loc\u001b[1;34m(self, key, method, tolerance)\u001b[0m\n\u001b[0;32m   3801\u001b[0m \u001b[38;5;28;01mtry\u001b[39;00m:\n\u001b[1;32m-> 3802\u001b[0m     \u001b[38;5;28;01mreturn\u001b[39;00m \u001b[38;5;28;43mself\u001b[39;49m\u001b[38;5;241;43m.\u001b[39;49m\u001b[43m_engine\u001b[49m\u001b[38;5;241;43m.\u001b[39;49m\u001b[43mget_loc\u001b[49m\u001b[43m(\u001b[49m\u001b[43mcasted_key\u001b[49m\u001b[43m)\u001b[49m\n\u001b[0;32m   3803\u001b[0m \u001b[38;5;28;01mexcept\u001b[39;00m \u001b[38;5;167;01mKeyError\u001b[39;00m \u001b[38;5;28;01mas\u001b[39;00m err:\n",
      "File \u001b[1;32m~\\anaconda3\\envs\\SISMOE030\\lib\\site-packages\\pandas\\_libs\\index.pyx:138\u001b[0m, in \u001b[0;36mpandas._libs.index.IndexEngine.get_loc\u001b[1;34m()\u001b[0m\n",
      "File \u001b[1;32m~\\anaconda3\\envs\\SISMOE030\\lib\\site-packages\\pandas\\_libs\\index.pyx:165\u001b[0m, in \u001b[0;36mpandas._libs.index.IndexEngine.get_loc\u001b[1;34m()\u001b[0m\n",
      "File \u001b[1;32mpandas\\_libs\\hashtable_class_helper.pxi:5745\u001b[0m, in \u001b[0;36mpandas._libs.hashtable.PyObjectHashTable.get_item\u001b[1;34m()\u001b[0m\n",
      "File \u001b[1;32mpandas\\_libs\\hashtable_class_helper.pxi:5753\u001b[0m, in \u001b[0;36mpandas._libs.hashtable.PyObjectHashTable.get_item\u001b[1;34m()\u001b[0m\n",
      "\u001b[1;31mKeyError\u001b[0m: <POINTER(cSapModel) ptr=0x2b4a4eefea0 at 2b4a3c81340>",
      "\nThe above exception was the direct cause of the following exception:\n",
      "\u001b[1;31mKeyError\u001b[0m                                  Traceback (most recent call last)",
      "Cell \u001b[1;32mIn[13], line 1\u001b[0m\n\u001b[1;32m----> 1\u001b[0m \u001b[43msismo\u001b[49m\u001b[38;5;241;43m.\u001b[39;49m\u001b[43manalisis_sismo\u001b[49m\u001b[43m(\u001b[49m\u001b[43mSapModel\u001b[49m\u001b[43m)\u001b[49m\n",
      "File \u001b[1;32mD:\\CARPETAS W10\\Escritorio\\GITHUB\\automatizacion_estructural\\utils\\notebook_utils.py:382\u001b[0m, in \u001b[0;36mSismo.analisis_sismo\u001b[1;34m(self, SapModel)\u001b[0m\n\u001b[0;32m    380\u001b[0m     \u001b[38;5;28msuper\u001b[39m()\u001b[38;5;241m.\u001b[39manalisis_sismo(SapModel)\n\u001b[0;32m    381\u001b[0m \u001b[38;5;28;01mexcept\u001b[39;00m:\n\u001b[1;32m--> 382\u001b[0m     \u001b[38;5;28;43mself\u001b[39;49m\u001b[38;5;241;43m.\u001b[39;49m\u001b[43mdata\u001b[49m\u001b[38;5;241;43m.\u001b[39;49m\u001b[43mperiodos_suelo\u001b[49m\u001b[43m(\u001b[49m\u001b[43mSapModel\u001b[49m\u001b[43m)\u001b[49m\n\u001b[0;32m    383\u001b[0m     \u001b[38;5;28mself\u001b[39m\u001b[38;5;241m.\u001b[39mdata\u001b[38;5;241m.\u001b[39mfactor_R(SapModel)\n\u001b[0;32m    384\u001b[0m     \u001b[38;5;28msuper\u001b[39m()\u001b[38;5;241m.\u001b[39manalisis_sismo(SapModel)\n",
      "File \u001b[1;32mD:\\CARPETAS W10\\Escritorio\\GITHUB\\automatizacion_estructural\\utils\\sismo_utils.py:53\u001b[0m, in \u001b[0;36mSismo_e30.Data.periodos_suelo\u001b[1;34m(self, suelo, zona)\u001b[0m\n\u001b[0;32m     47\u001b[0m table \u001b[38;5;241m=\u001b[39m pd\u001b[38;5;241m.\u001b[39mDataFrame(\n\u001b[0;32m     48\u001b[0m     [[\u001b[38;5;241m0.3\u001b[39m, \u001b[38;5;241m0.4\u001b[39m, \u001b[38;5;241m0.6\u001b[39m, \u001b[38;5;241m1\u001b[39m],\n\u001b[0;32m     49\u001b[0m     [\u001b[38;5;241m3\u001b[39m, \u001b[38;5;241m2.5\u001b[39m, \u001b[38;5;241m2\u001b[39m, \u001b[38;5;241m1.6\u001b[39m]],\n\u001b[0;32m     50\u001b[0m     columns\u001b[38;5;241m=\u001b[39m[\u001b[38;5;124m'\u001b[39m\u001b[38;5;124mS0\u001b[39m\u001b[38;5;124m'\u001b[39m, \u001b[38;5;124m'\u001b[39m\u001b[38;5;124mS1\u001b[39m\u001b[38;5;124m'\u001b[39m, \u001b[38;5;124m'\u001b[39m\u001b[38;5;124mS2\u001b[39m\u001b[38;5;124m'\u001b[39m, \u001b[38;5;124m'\u001b[39m\u001b[38;5;124mS3\u001b[39m\u001b[38;5;124m'\u001b[39m],\n\u001b[0;32m     51\u001b[0m     index\u001b[38;5;241m=\u001b[39m[\u001b[38;5;124m'\u001b[39m\u001b[38;5;124mTp\u001b[39m\u001b[38;5;124m'\u001b[39m, \u001b[38;5;124m'\u001b[39m\u001b[38;5;124mTl\u001b[39m\u001b[38;5;124m'\u001b[39m])\n\u001b[0;32m     52\u001b[0m \u001b[38;5;28;01mif\u001b[39;00m suelo:\n\u001b[1;32m---> 53\u001b[0m     \u001b[38;5;28;43mself\u001b[39;49m\u001b[38;5;241;43m.\u001b[39;49m\u001b[43mfactor_suelo\u001b[49m\u001b[43m(\u001b[49m\u001b[43msuelo\u001b[49m\u001b[43m,\u001b[49m\u001b[43mzona\u001b[49m\u001b[43m)\u001b[49m\n\u001b[0;32m     54\u001b[0m suelo \u001b[38;5;241m=\u001b[39m \u001b[38;5;28mself\u001b[39m\u001b[38;5;241m.\u001b[39msuelo\n\u001b[0;32m     55\u001b[0m \u001b[38;5;28mself\u001b[39m\u001b[38;5;241m.\u001b[39mTp \u001b[38;5;241m=\u001b[39m table[suelo]\u001b[38;5;241m.\u001b[39mloc[\u001b[38;5;124m'\u001b[39m\u001b[38;5;124mTp\u001b[39m\u001b[38;5;124m'\u001b[39m]\n",
      "File \u001b[1;32mD:\\CARPETAS W10\\Escritorio\\GITHUB\\automatizacion_estructural\\utils\\sismo_utils.py:44\u001b[0m, in \u001b[0;36mSismo_e30.Data.factor_suelo\u001b[1;34m(self, suelo, zona)\u001b[0m\n\u001b[0;32m     42\u001b[0m zona \u001b[38;5;241m=\u001b[39m \u001b[38;5;28mself\u001b[39m\u001b[38;5;241m.\u001b[39mzona\n\u001b[0;32m     43\u001b[0m \u001b[38;5;28mself\u001b[39m\u001b[38;5;241m.\u001b[39msuelo \u001b[38;5;241m=\u001b[39m suelo\n\u001b[1;32m---> 44\u001b[0m \u001b[38;5;28mself\u001b[39m\u001b[38;5;241m.\u001b[39mS \u001b[38;5;241m=\u001b[39m \u001b[38;5;28mfloat\u001b[39m(\u001b[43mtable\u001b[49m\u001b[38;5;241;43m.\u001b[39;49m\u001b[43mquery\u001b[49m\u001b[43m(\u001b[49m\u001b[38;5;124;43m'\u001b[39;49m\u001b[38;5;124;43mZ == @zona\u001b[39;49m\u001b[38;5;124;43m'\u001b[39;49m\u001b[43m)\u001b[49m\u001b[43m[\u001b[49m\u001b[43msuelo\u001b[49m\u001b[43m]\u001b[49m)\n",
      "File \u001b[1;32m~\\anaconda3\\envs\\SISMOE030\\lib\\site-packages\\pandas\\core\\frame.py:3807\u001b[0m, in \u001b[0;36mDataFrame.__getitem__\u001b[1;34m(self, key)\u001b[0m\n\u001b[0;32m   3805\u001b[0m \u001b[38;5;28;01mif\u001b[39;00m \u001b[38;5;28mself\u001b[39m\u001b[38;5;241m.\u001b[39mcolumns\u001b[38;5;241m.\u001b[39mnlevels \u001b[38;5;241m>\u001b[39m \u001b[38;5;241m1\u001b[39m:\n\u001b[0;32m   3806\u001b[0m     \u001b[38;5;28;01mreturn\u001b[39;00m \u001b[38;5;28mself\u001b[39m\u001b[38;5;241m.\u001b[39m_getitem_multilevel(key)\n\u001b[1;32m-> 3807\u001b[0m indexer \u001b[38;5;241m=\u001b[39m \u001b[38;5;28;43mself\u001b[39;49m\u001b[38;5;241;43m.\u001b[39;49m\u001b[43mcolumns\u001b[49m\u001b[38;5;241;43m.\u001b[39;49m\u001b[43mget_loc\u001b[49m\u001b[43m(\u001b[49m\u001b[43mkey\u001b[49m\u001b[43m)\u001b[49m\n\u001b[0;32m   3808\u001b[0m \u001b[38;5;28;01mif\u001b[39;00m is_integer(indexer):\n\u001b[0;32m   3809\u001b[0m     indexer \u001b[38;5;241m=\u001b[39m [indexer]\n",
      "File \u001b[1;32m~\\anaconda3\\envs\\SISMOE030\\lib\\site-packages\\pandas\\core\\indexes\\base.py:3804\u001b[0m, in \u001b[0;36mIndex.get_loc\u001b[1;34m(self, key, method, tolerance)\u001b[0m\n\u001b[0;32m   3802\u001b[0m     \u001b[38;5;28;01mreturn\u001b[39;00m \u001b[38;5;28mself\u001b[39m\u001b[38;5;241m.\u001b[39m_engine\u001b[38;5;241m.\u001b[39mget_loc(casted_key)\n\u001b[0;32m   3803\u001b[0m \u001b[38;5;28;01mexcept\u001b[39;00m \u001b[38;5;167;01mKeyError\u001b[39;00m \u001b[38;5;28;01mas\u001b[39;00m err:\n\u001b[1;32m-> 3804\u001b[0m     \u001b[38;5;28;01mraise\u001b[39;00m \u001b[38;5;167;01mKeyError\u001b[39;00m(key) \u001b[38;5;28;01mfrom\u001b[39;00m \u001b[38;5;21;01merr\u001b[39;00m\n\u001b[0;32m   3805\u001b[0m \u001b[38;5;28;01mexcept\u001b[39;00m \u001b[38;5;167;01mTypeError\u001b[39;00m:\n\u001b[0;32m   3806\u001b[0m     \u001b[38;5;66;03m# If we have a listlike key, _check_indexing_error will raise\u001b[39;00m\n\u001b[0;32m   3807\u001b[0m     \u001b[38;5;66;03m#  InvalidIndexError. Otherwise we fall through and re-raise\u001b[39;00m\n\u001b[0;32m   3808\u001b[0m     \u001b[38;5;66;03m#  the TypeError.\u001b[39;00m\n\u001b[0;32m   3809\u001b[0m     \u001b[38;5;28mself\u001b[39m\u001b[38;5;241m.\u001b[39m_check_indexing_error(key)\n",
      "\u001b[1;31mKeyError\u001b[0m: <POINTER(cSapModel) ptr=0x2b4a4eefea0 at 2b4a3c81340>"
     ]
    }
   ],
   "source": [
    "sismo.analisis_sismo(SapModel)"
   ]
  },
  {
   "cell_type": "code",
   "execution_count": 12,
   "metadata": {},
   "outputs": [
    {
     "data": {
      "text/html": [
       "<div>\n",
       "<style scoped>\n",
       "    .dataframe tbody tr th:only-of-type {\n",
       "        vertical-align: middle;\n",
       "    }\n",
       "\n",
       "    .dataframe tbody tr th {\n",
       "        vertical-align: top;\n",
       "    }\n",
       "\n",
       "    .dataframe thead th {\n",
       "        text-align: right;\n",
       "    }\n",
       "</style>\n",
       "<table border=\"1\" class=\"dataframe\">\n",
       "  <thead>\n",
       "    <tr style=\"text-align: right;\">\n",
       "      <th></th>\n",
       "      <th>Mode</th>\n",
       "      <th>Period</th>\n",
       "      <th>UX</th>\n",
       "      <th>UY</th>\n",
       "      <th>RZ</th>\n",
       "      <th>SumUX</th>\n",
       "      <th>SumUY</th>\n",
       "      <th>SumRZ</th>\n",
       "    </tr>\n",
       "  </thead>\n",
       "  <tbody>\n",
       "    <tr>\n",
       "      <th>0</th>\n",
       "      <td>1</td>\n",
       "      <td>0.272</td>\n",
       "      <td>8.001000e-01</td>\n",
       "      <td>0.000100</td>\n",
       "      <td>0.0143</td>\n",
       "      <td>0.8001</td>\n",
       "      <td>0.0001</td>\n",
       "      <td>0.0143</td>\n",
       "    </tr>\n",
       "    <tr>\n",
       "      <th>1</th>\n",
       "      <td>2</td>\n",
       "      <td>0.153</td>\n",
       "      <td>1.210000e-02</td>\n",
       "      <td>0.136300</td>\n",
       "      <td>0.6867</td>\n",
       "      <td>0.8122</td>\n",
       "      <td>0.1364</td>\n",
       "      <td>0.7009</td>\n",
       "    </tr>\n",
       "    <tr>\n",
       "      <th>2</th>\n",
       "      <td>3</td>\n",
       "      <td>0.135</td>\n",
       "      <td>3.200000e-03</td>\n",
       "      <td>0.737400</td>\n",
       "      <td>0.1362</td>\n",
       "      <td>0.8154</td>\n",
       "      <td>0.8738</td>\n",
       "      <td>0.8372</td>\n",
       "    </tr>\n",
       "    <tr>\n",
       "      <th>3</th>\n",
       "      <td>4</td>\n",
       "      <td>0.094</td>\n",
       "      <td>5.680000e-02</td>\n",
       "      <td>0.000200</td>\n",
       "      <td>0.0352</td>\n",
       "      <td>0.8722</td>\n",
       "      <td>0.8739</td>\n",
       "      <td>0.8724</td>\n",
       "    </tr>\n",
       "    <tr>\n",
       "      <th>4</th>\n",
       "      <td>5</td>\n",
       "      <td>0.072</td>\n",
       "      <td>1.081000e-01</td>\n",
       "      <td>0.000100</td>\n",
       "      <td>0.007</td>\n",
       "      <td>0.9804</td>\n",
       "      <td>0.874</td>\n",
       "      <td>0.8794</td>\n",
       "    </tr>\n",
       "    <tr>\n",
       "      <th>5</th>\n",
       "      <td>6</td>\n",
       "      <td>0.052</td>\n",
       "      <td>3.000000e-04</td>\n",
       "      <td>0.075600</td>\n",
       "      <td>0.025</td>\n",
       "      <td>0.9807</td>\n",
       "      <td>0.9496</td>\n",
       "      <td>0.9044</td>\n",
       "    </tr>\n",
       "    <tr>\n",
       "      <th>6</th>\n",
       "      <td>7</td>\n",
       "      <td>0.047</td>\n",
       "      <td>1.300000e-03</td>\n",
       "      <td>0.019000</td>\n",
       "      <td>0.0789</td>\n",
       "      <td>0.982</td>\n",
       "      <td>0.9686</td>\n",
       "      <td>0.9833</td>\n",
       "    </tr>\n",
       "    <tr>\n",
       "      <th>7</th>\n",
       "      <td>8</td>\n",
       "      <td>0.043</td>\n",
       "      <td>1.750000e-02</td>\n",
       "      <td>0.000200</td>\n",
       "      <td>4.81E-06</td>\n",
       "      <td>0.9995</td>\n",
       "      <td>0.9688</td>\n",
       "      <td>0.9833</td>\n",
       "    </tr>\n",
       "    <tr>\n",
       "      <th>8</th>\n",
       "      <td>9</td>\n",
       "      <td>0.039</td>\n",
       "      <td>1.000000e-04</td>\n",
       "      <td>0.020500</td>\n",
       "      <td>0.0039</td>\n",
       "      <td>0.9996</td>\n",
       "      <td>0.9893</td>\n",
       "      <td>0.9872</td>\n",
       "    </tr>\n",
       "    <tr>\n",
       "      <th>9</th>\n",
       "      <td>10</td>\n",
       "      <td>0.033</td>\n",
       "      <td>4.134000e-05</td>\n",
       "      <td>0.004200</td>\n",
       "      <td>0.0005</td>\n",
       "      <td>0.9997</td>\n",
       "      <td>0.9935</td>\n",
       "      <td>0.9877</td>\n",
       "    </tr>\n",
       "    <tr>\n",
       "      <th>10</th>\n",
       "      <td>11</td>\n",
       "      <td>0.029</td>\n",
       "      <td>9.026000e-07</td>\n",
       "      <td>0.006500</td>\n",
       "      <td>4.904E-06</td>\n",
       "      <td>0.9997</td>\n",
       "      <td>1</td>\n",
       "      <td>0.9877</td>\n",
       "    </tr>\n",
       "    <tr>\n",
       "      <th>11</th>\n",
       "      <td>12</td>\n",
       "      <td>0.029</td>\n",
       "      <td>3.000000e-04</td>\n",
       "      <td>0.000035</td>\n",
       "      <td>0.0123</td>\n",
       "      <td>1</td>\n",
       "      <td>1</td>\n",
       "      <td>1</td>\n",
       "    </tr>\n",
       "  </tbody>\n",
       "</table>\n",
       "</div>"
      ],
      "text/plain": [
       "   Mode Period            UX        UY         RZ   SumUX   SumUY   SumRZ\n",
       "0     1  0.272  8.001000e-01  0.000100     0.0143  0.8001  0.0001  0.0143\n",
       "1     2  0.153  1.210000e-02  0.136300     0.6867  0.8122  0.1364  0.7009\n",
       "2     3  0.135  3.200000e-03  0.737400     0.1362  0.8154  0.8738  0.8372\n",
       "3     4  0.094  5.680000e-02  0.000200     0.0352  0.8722  0.8739  0.8724\n",
       "4     5  0.072  1.081000e-01  0.000100      0.007  0.9804   0.874  0.8794\n",
       "5     6  0.052  3.000000e-04  0.075600      0.025  0.9807  0.9496  0.9044\n",
       "6     7  0.047  1.300000e-03  0.019000     0.0789   0.982  0.9686  0.9833\n",
       "7     8  0.043  1.750000e-02  0.000200   4.81E-06  0.9995  0.9688  0.9833\n",
       "8     9  0.039  1.000000e-04  0.020500     0.0039  0.9996  0.9893  0.9872\n",
       "9    10  0.033  4.134000e-05  0.004200     0.0005  0.9997  0.9935  0.9877\n",
       "10   11  0.029  9.026000e-07  0.006500  4.904E-06  0.9997       1  0.9877\n",
       "11   12  0.029  3.000000e-04  0.000035     0.0123       1       1       1"
      ]
     },
     "execution_count": 12,
     "metadata": {},
     "output_type": "execute_result"
    }
   ],
   "source": [
    "sismo.tables.modal"
   ]
  },
  {
   "cell_type": "markdown",
   "metadata": {},
   "source": [
    "## Revisión por Piso Blando"
   ]
  },
  {
   "cell_type": "code",
   "execution_count": 13,
   "metadata": {},
   "outputs": [
    {
     "data": {
      "application/vnd.jupyter.widget-view+json": {
       "model_id": "8de41b059b884a178163ea2f6ca984f8",
       "version_major": 2,
       "version_minor": 0
      },
      "text/plain": [
       "Dropdown(description='Filtro', options=('Sx', 'SDx Max', 'Sy', 'sin filtro'), style=DescriptionStyle(descripti…"
      ]
     },
     "metadata": {},
     "output_type": "display_data"
    },
    {
     "data": {
      "text/html": [
       "<div>\n",
       "<style scoped>\n",
       "    .dataframe tbody tr th:only-of-type {\n",
       "        vertical-align: middle;\n",
       "    }\n",
       "\n",
       "    .dataframe tbody tr th {\n",
       "        vertical-align: top;\n",
       "    }\n",
       "\n",
       "    .dataframe thead th {\n",
       "        text-align: right;\n",
       "    }\n",
       "</style>\n",
       "<table border=\"1\" class=\"dataframe\">\n",
       "  <thead>\n",
       "    <tr style=\"text-align: right;\">\n",
       "      <th></th>\n",
       "      <th>Story</th>\n",
       "      <th>OutputCase</th>\n",
       "      <th>UX</th>\n",
       "      <th>UY</th>\n",
       "      <th>ΔUX</th>\n",
       "      <th>ΔUY</th>\n",
       "      <th>VX</th>\n",
       "      <th>VY</th>\n",
       "      <th>lat_rig(k)</th>\n",
       "      <th>0.7_prev_k</th>\n",
       "      <th>0.8k_prom</th>\n",
       "      <th>is_reg</th>\n",
       "    </tr>\n",
       "  </thead>\n",
       "  <tbody>\n",
       "    <tr>\n",
       "      <th>0</th>\n",
       "      <td>Story4</td>\n",
       "      <td>Sx</td>\n",
       "      <td>14.417</td>\n",
       "      <td>-0.037</td>\n",
       "      <td>3.277</td>\n",
       "      <td>0.098</td>\n",
       "      <td>-55385.94</td>\n",
       "      <td>0</td>\n",
       "      <td>16901.415929</td>\n",
       "      <td>0.000000</td>\n",
       "      <td>0.000000</td>\n",
       "      <td>Regular</td>\n",
       "    </tr>\n",
       "    <tr>\n",
       "      <th>1</th>\n",
       "      <td>Story3</td>\n",
       "      <td>Sx</td>\n",
       "      <td>11.14</td>\n",
       "      <td>-0.135</td>\n",
       "      <td>3.859</td>\n",
       "      <td>-0.038</td>\n",
       "      <td>-607453.18</td>\n",
       "      <td>0</td>\n",
       "      <td>157412.070485</td>\n",
       "      <td>11830.991150</td>\n",
       "      <td>0.000000</td>\n",
       "      <td>Regular</td>\n",
       "    </tr>\n",
       "    <tr>\n",
       "      <th>2</th>\n",
       "      <td>Story2</td>\n",
       "      <td>Sx</td>\n",
       "      <td>7.281</td>\n",
       "      <td>-0.097</td>\n",
       "      <td>4.121</td>\n",
       "      <td>-0.059</td>\n",
       "      <td>-1111554.62</td>\n",
       "      <td>0</td>\n",
       "      <td>269729.342393</td>\n",
       "      <td>110188.449339</td>\n",
       "      <td>0.000000</td>\n",
       "      <td>Regular</td>\n",
       "    </tr>\n",
       "    <tr>\n",
       "      <th>3</th>\n",
       "      <td>Story1</td>\n",
       "      <td>Sx</td>\n",
       "      <td>3.16</td>\n",
       "      <td>-0.038</td>\n",
       "      <td>3.160</td>\n",
       "      <td>-0.038</td>\n",
       "      <td>-1384536.84</td>\n",
       "      <td>0</td>\n",
       "      <td>438144.569620</td>\n",
       "      <td>188810.539675</td>\n",
       "      <td>118411.421015</td>\n",
       "      <td>Regular</td>\n",
       "    </tr>\n",
       "  </tbody>\n",
       "</table>\n",
       "</div>"
      ],
      "text/plain": [
       "    Story OutputCase      UX      UY    ΔUX    ΔUY           VX VY  \\\n",
       "0  Story4         Sx  14.417  -0.037  3.277  0.098    -55385.94  0   \n",
       "1  Story3         Sx   11.14  -0.135  3.859 -0.038   -607453.18  0   \n",
       "2  Story2         Sx   7.281  -0.097  4.121 -0.059  -1111554.62  0   \n",
       "3  Story1         Sx    3.16  -0.038  3.160 -0.038  -1384536.84  0   \n",
       "\n",
       "      lat_rig(k)     0.7_prev_k      0.8k_prom   is_reg  \n",
       "0   16901.415929       0.000000       0.000000  Regular  \n",
       "1  157412.070485   11830.991150       0.000000  Regular  \n",
       "2  269729.342393  110188.449339       0.000000  Regular  \n",
       "3  438144.569620  188810.539675  118411.421015  Regular  "
      ]
     },
     "metadata": {},
     "output_type": "display_data"
    }
   ],
   "source": [
    "sismo.show_table(sismo.tables.piso_blando_table)"
   ]
  },
  {
   "cell_type": "markdown",
   "metadata": {},
   "source": [
    "## Revisión por Irregularidad de Masa"
   ]
  },
  {
   "cell_type": "code",
   "execution_count": 14,
   "metadata": {},
   "outputs": [
    {
     "data": {
      "text/html": [
       "<div>\n",
       "<style scoped>\n",
       "    .dataframe tbody tr th:only-of-type {\n",
       "        vertical-align: middle;\n",
       "    }\n",
       "\n",
       "    .dataframe tbody tr th {\n",
       "        vertical-align: top;\n",
       "    }\n",
       "\n",
       "    .dataframe thead th {\n",
       "        text-align: right;\n",
       "    }\n",
       "</style>\n",
       "<table border=\"1\" class=\"dataframe\">\n",
       "  <thead>\n",
       "    <tr style=\"text-align: right;\">\n",
       "      <th></th>\n",
       "      <th>Story</th>\n",
       "      <th>Mass</th>\n",
       "      <th>1.5 Mass</th>\n",
       "      <th>story_type</th>\n",
       "      <th>is_regular</th>\n",
       "    </tr>\n",
       "  </thead>\n",
       "  <tbody>\n",
       "    <tr>\n",
       "      <th>0</th>\n",
       "      <td>Story4</td>\n",
       "      <td>7.5451</td>\n",
       "      <td></td>\n",
       "      <td>Azotea</td>\n",
       "      <td>Regular</td>\n",
       "    </tr>\n",
       "    <tr>\n",
       "      <th>1</th>\n",
       "      <td>Story3</td>\n",
       "      <td>93.8061</td>\n",
       "      <td>140.70915</td>\n",
       "      <td>Piso</td>\n",
       "      <td>Regular</td>\n",
       "    </tr>\n",
       "    <tr>\n",
       "      <th>2</th>\n",
       "      <td>Story2</td>\n",
       "      <td>126.4444</td>\n",
       "      <td>189.6666</td>\n",
       "      <td>Piso</td>\n",
       "      <td>Regular</td>\n",
       "    </tr>\n",
       "    <tr>\n",
       "      <th>3</th>\n",
       "      <td>Story1</td>\n",
       "      <td>130.7201</td>\n",
       "      <td>196.08015</td>\n",
       "      <td>Piso</td>\n",
       "      <td>Regular</td>\n",
       "    </tr>\n",
       "    <tr>\n",
       "      <th>4</th>\n",
       "      <td>Base</td>\n",
       "      <td>26.8405</td>\n",
       "      <td></td>\n",
       "      <td>Sotano</td>\n",
       "      <td>Regular</td>\n",
       "    </tr>\n",
       "  </tbody>\n",
       "</table>\n",
       "</div>"
      ],
      "text/plain": [
       "    Story      Mass   1.5 Mass story_type is_regular\n",
       "0  Story4    7.5451                Azotea    Regular\n",
       "1  Story3   93.8061  140.70915       Piso    Regular\n",
       "2  Story2  126.4444   189.6666       Piso    Regular\n",
       "3  Story1  130.7201  196.08015       Piso    Regular\n",
       "4    Base   26.8405                Sotano    Regular"
      ]
     },
     "execution_count": 14,
     "metadata": {},
     "output_type": "execute_result"
    }
   ],
   "source": [
    "sismo.tables.rev_masa_table"
   ]
  },
  {
   "cell_type": "markdown",
   "metadata": {},
   "source": [
    "## Revisión de torsión"
   ]
  },
  {
   "cell_type": "code",
   "execution_count": 15,
   "metadata": {
    "scrolled": false
   },
   "outputs": [
    {
     "data": {
      "application/vnd.jupyter.widget-view+json": {
       "model_id": "92896e7a17bc41ad8db79d7f11eee559",
       "version_major": 2,
       "version_minor": 0
      },
      "text/plain": [
       "Dropdown(description='Filtro', options=('SDx Max', 'Sx ', 'Sy ', 'sin filtro'), style=DescriptionStyle(descrip…"
      ]
     },
     "metadata": {},
     "output_type": "display_data"
    },
    {
     "data": {
      "text/html": [
       "<div>\n",
       "<style scoped>\n",
       "    .dataframe tbody tr th:only-of-type {\n",
       "        vertical-align: middle;\n",
       "    }\n",
       "\n",
       "    .dataframe tbody tr th {\n",
       "        vertical-align: top;\n",
       "    }\n",
       "\n",
       "    .dataframe thead th {\n",
       "        text-align: right;\n",
       "    }\n",
       "</style>\n",
       "<table border=\"1\" class=\"dataframe\">\n",
       "  <thead>\n",
       "    <tr style=\"text-align: right;\">\n",
       "      <th></th>\n",
       "      <th>Story</th>\n",
       "      <th>OutputCase</th>\n",
       "      <th>Direction</th>\n",
       "      <th>Max Drift</th>\n",
       "      <th>Avg Drift</th>\n",
       "      <th>Ratio</th>\n",
       "      <th>Height</th>\n",
       "      <th>Drifts</th>\n",
       "      <th>Drift &lt; Dmax/2</th>\n",
       "      <th>tor_reg</th>\n",
       "    </tr>\n",
       "  </thead>\n",
       "  <tbody>\n",
       "    <tr>\n",
       "      <th>0</th>\n",
       "      <td>Story4</td>\n",
       "      <td>SDx Max</td>\n",
       "      <td>X</td>\n",
       "      <td>3.045</td>\n",
       "      <td>3.029</td>\n",
       "      <td>1.005</td>\n",
       "      <td>2300</td>\n",
       "      <td>21.315</td>\n",
       "      <td>False</td>\n",
       "      <td>Regular</td>\n",
       "    </tr>\n",
       "    <tr>\n",
       "      <th>3</th>\n",
       "      <td>Story3</td>\n",
       "      <td>SDx Max</td>\n",
       "      <td>X</td>\n",
       "      <td>3.497</td>\n",
       "      <td>3.316</td>\n",
       "      <td>1.055</td>\n",
       "      <td>3000</td>\n",
       "      <td>24.479</td>\n",
       "      <td>False</td>\n",
       "      <td>Regular</td>\n",
       "    </tr>\n",
       "    <tr>\n",
       "      <th>6</th>\n",
       "      <td>Story2</td>\n",
       "      <td>SDx Max</td>\n",
       "      <td>X</td>\n",
       "      <td>3.958</td>\n",
       "      <td>3.565</td>\n",
       "      <td>1.11</td>\n",
       "      <td>3000</td>\n",
       "      <td>27.706</td>\n",
       "      <td>False</td>\n",
       "      <td>Regular</td>\n",
       "    </tr>\n",
       "    <tr>\n",
       "      <th>9</th>\n",
       "      <td>Story1</td>\n",
       "      <td>SDx Max</td>\n",
       "      <td>X</td>\n",
       "      <td>3.226</td>\n",
       "      <td>2.729</td>\n",
       "      <td>1.182</td>\n",
       "      <td>3300</td>\n",
       "      <td>22.582</td>\n",
       "      <td>False</td>\n",
       "      <td>Regular</td>\n",
       "    </tr>\n",
       "  </tbody>\n",
       "</table>\n",
       "</div>"
      ],
      "text/plain": [
       "    Story OutputCase Direction Max Drift Avg Drift  Ratio Height  Drifts  \\\n",
       "0  Story4    SDx Max         X     3.045     3.029  1.005   2300  21.315   \n",
       "3  Story3    SDx Max         X     3.497     3.316  1.055   3000  24.479   \n",
       "6  Story2    SDx Max         X     3.958     3.565   1.11   3000  27.706   \n",
       "9  Story1    SDx Max         X     3.226     2.729  1.182   3300  22.582   \n",
       "\n",
       "   Drift < Dmax/2  tor_reg  \n",
       "0           False  Regular  \n",
       "3           False  Regular  \n",
       "6           False  Regular  \n",
       "9           False  Regular  "
      ]
     },
     "metadata": {},
     "output_type": "display_data"
    }
   ],
   "source": [
    "sismo.show_table(sismo.tables.torsion_table)"
   ]
  },
  {
   "cell_type": "markdown",
   "metadata": {},
   "source": [
    "## Derivas"
   ]
  },
  {
   "cell_type": "code",
   "execution_count": 16,
   "metadata": {},
   "outputs": [
    {
     "data": {
      "application/vnd.jupyter.widget-view+json": {
       "model_id": "e0d194de7ddd4647a944eed8e94be91a",
       "version_major": 2,
       "version_minor": 0
      },
      "text/plain": [
       "Dropdown(description='Filtro', options=('SDx Max', 'Sx ', 'Sy ', 'sin filtro'), style=DescriptionStyle(descrip…"
      ]
     },
     "metadata": {},
     "output_type": "display_data"
    },
    {
     "data": {
      "text/html": [
       "<div>\n",
       "<style scoped>\n",
       "    .dataframe tbody tr th:only-of-type {\n",
       "        vertical-align: middle;\n",
       "    }\n",
       "\n",
       "    .dataframe tbody tr th {\n",
       "        vertical-align: top;\n",
       "    }\n",
       "\n",
       "    .dataframe thead th {\n",
       "        text-align: right;\n",
       "    }\n",
       "</style>\n",
       "<table border=\"1\" class=\"dataframe\">\n",
       "  <thead>\n",
       "    <tr style=\"text-align: right;\">\n",
       "      <th></th>\n",
       "      <th>Story</th>\n",
       "      <th>OutputCase</th>\n",
       "      <th>Direction</th>\n",
       "      <th>Drifts</th>\n",
       "      <th>Drift_Check</th>\n",
       "    </tr>\n",
       "  </thead>\n",
       "  <tbody>\n",
       "    <tr>\n",
       "      <th>0</th>\n",
       "      <td>Story4</td>\n",
       "      <td>SDx Max</td>\n",
       "      <td>X</td>\n",
       "      <td>21.315</td>\n",
       "      <td>No Cumple</td>\n",
       "    </tr>\n",
       "    <tr>\n",
       "      <th>3</th>\n",
       "      <td>Story3</td>\n",
       "      <td>SDx Max</td>\n",
       "      <td>X</td>\n",
       "      <td>24.479</td>\n",
       "      <td>No Cumple</td>\n",
       "    </tr>\n",
       "    <tr>\n",
       "      <th>6</th>\n",
       "      <td>Story2</td>\n",
       "      <td>SDx Max</td>\n",
       "      <td>X</td>\n",
       "      <td>27.706</td>\n",
       "      <td>No Cumple</td>\n",
       "    </tr>\n",
       "    <tr>\n",
       "      <th>9</th>\n",
       "      <td>Story1</td>\n",
       "      <td>SDx Max</td>\n",
       "      <td>X</td>\n",
       "      <td>22.582</td>\n",
       "      <td>No Cumple</td>\n",
       "    </tr>\n",
       "  </tbody>\n",
       "</table>\n",
       "</div>"
      ],
      "text/plain": [
       "    Story OutputCase Direction  Drifts Drift_Check\n",
       "0  Story4    SDx Max         X  21.315   No Cumple\n",
       "3  Story3    SDx Max         X  24.479   No Cumple\n",
       "6  Story2    SDx Max         X  27.706   No Cumple\n",
       "9  Story1    SDx Max         X  22.582   No Cumple"
      ]
     },
     "metadata": {},
     "output_type": "display_data"
    }
   ],
   "source": [
    "sismo.show_table(sismo.tables.drift_table)"
   ]
  },
  {
   "cell_type": "markdown",
   "metadata": {},
   "source": [
    "# Fuerza Cortante Mínima"
   ]
  },
  {
   "cell_type": "code",
   "execution_count": 36,
   "metadata": {},
   "outputs": [
    {
     "data": {
      "text/html": [
       "<style type=\"text/css\">\n",
       "</style>\n",
       "<table id=\"T_1e801\">\n",
       "  <thead>\n",
       "  </thead>\n",
       "  <tbody>\n",
       "    <tr>\n",
       "      <td id=\"T_1e801_row0_col0\" class=\"data row0 col0\" ></td>\n",
       "      <td id=\"T_1e801_row0_col1\" class=\"data row0 col1\" >X</td>\n",
       "      <td id=\"T_1e801_row0_col2\" class=\"data row0 col2\" >Y</td>\n",
       "    </tr>\n",
       "    <tr>\n",
       "      <td id=\"T_1e801_row1_col0\" class=\"data row1 col0\" >V din (Ton)</td>\n",
       "      <td id=\"T_1e801_row1_col1\" class=\"data row1 col1\" >114.666100</td>\n",
       "      <td id=\"T_1e801_row1_col2\" class=\"data row1 col2\" >113.995200</td>\n",
       "    </tr>\n",
       "    <tr>\n",
       "      <td id=\"T_1e801_row2_col0\" class=\"data row2 col0\" >V est (Ton)</td>\n",
       "      <td id=\"T_1e801_row2_col1\" class=\"data row2 col1\" >-141.183500</td>\n",
       "      <td id=\"T_1e801_row2_col2\" class=\"data row2 col2\" >-141.183500</td>\n",
       "    </tr>\n",
       "    <tr>\n",
       "      <td id=\"T_1e801_row3_col0\" class=\"data row3 col0\" >% min</td>\n",
       "      <td id=\"T_1e801_row3_col1\" class=\"data row3 col1\" >80</td>\n",
       "      <td id=\"T_1e801_row3_col2\" class=\"data row3 col2\" >80</td>\n",
       "    </tr>\n",
       "    <tr>\n",
       "      <td id=\"T_1e801_row4_col0\" class=\"data row4 col0\" >%</td>\n",
       "      <td id=\"T_1e801_row4_col1\" class=\"data row4 col1\" >81.220000</td>\n",
       "      <td id=\"T_1e801_row4_col2\" class=\"data row4 col2\" >80.740000</td>\n",
       "    </tr>\n",
       "    <tr>\n",
       "      <td id=\"T_1e801_row5_col0\" class=\"data row5 col0\" >F.E.</td>\n",
       "      <td id=\"T_1e801_row5_col1\" class=\"data row5 col1\" >1</td>\n",
       "      <td id=\"T_1e801_row5_col2\" class=\"data row5 col2\" >1</td>\n",
       "    </tr>\n",
       "  </tbody>\n",
       "</table>\n"
      ],
      "text/plain": [
       "<pandas.io.formats.style.Styler at 0x164eb6150d0>"
      ]
     },
     "execution_count": 36,
     "metadata": {},
     "output_type": "execute_result"
    }
   ],
   "source": [
    "sismo.tables.shear_table.style.hide(axis='index').hide(axis='columns')"
   ]
  },
  {
   "cell_type": "markdown",
   "metadata": {},
   "source": [
    "# Generación de reporte"
   ]
  },
  {
   "cell_type": "code",
   "execution_count": 1,
   "metadata": {},
   "outputs": [
    {
     "ename": "NameError",
     "evalue": "name 'sismo' is not defined",
     "output_type": "error",
     "traceback": [
      "\u001b[1;31m---------------------------------------------------------------------------\u001b[0m",
      "\u001b[1;31mNameError\u001b[0m                                 Traceback (most recent call last)",
      "Cell \u001b[1;32mIn[1], line 1\u001b[0m\n\u001b[1;32m----> 1\u001b[0m \u001b[43msismo\u001b[49m\u001b[38;5;241m.\u001b[39mgenerate_memoria()\n",
      "\u001b[1;31mNameError\u001b[0m: name 'sismo' is not defined"
     ]
    }
   ],
   "source": [
    "sismo.generate_memoria()"
   ]
  },
  {
   "cell_type": "code",
   "execution_count": 2,
   "metadata": {},
   "outputs": [],
   "source": [
    "# CASO 2: CARGAS MODALES EN LA CIMENTACIÓN"
   ]
  },
  {
   "cell_type": "code",
   "execution_count": 59,
   "metadata": {},
   "outputs": [],
   "source": [
    "sismo.analisis_Cimentación_2(SapModel)"
   ]
  },
  {
   "cell_type": "code",
   "execution_count": 60,
   "metadata": {},
   "outputs": [
    {
     "data": {
      "text/html": [
       "<div>\n",
       "<style scoped>\n",
       "    .dataframe tbody tr th:only-of-type {\n",
       "        vertical-align: middle;\n",
       "    }\n",
       "\n",
       "    .dataframe tbody tr th {\n",
       "        vertical-align: top;\n",
       "    }\n",
       "\n",
       "    .dataframe thead th {\n",
       "        text-align: right;\n",
       "    }\n",
       "</style>\n",
       "<table border=\"1\" class=\"dataframe\">\n",
       "  <thead>\n",
       "    <tr style=\"text-align: right;\">\n",
       "      <th></th>\n",
       "      <th>Caso Modal</th>\n",
       "      <th>Modo</th>\n",
       "      <th>Sentido</th>\n",
       "      <th>% masa Part</th>\n",
       "      <th>Mvolteo</th>\n",
       "      <th>Sismo Din</th>\n",
       "      <th>Mv Sismo</th>\n",
       "      <th>F. Escala</th>\n",
       "    </tr>\n",
       "  </thead>\n",
       "  <tbody>\n",
       "    <tr>\n",
       "      <th>0</th>\n",
       "      <td>Modal</td>\n",
       "      <td>1</td>\n",
       "      <td>UX</td>\n",
       "      <td>0.8001</td>\n",
       "      <td>21193.2838</td>\n",
       "      <td>SDx</td>\n",
       "      <td>827.7882</td>\n",
       "      <td>0.039059</td>\n",
       "    </tr>\n",
       "    <tr>\n",
       "      <th>1</th>\n",
       "      <td>Modal +eY</td>\n",
       "      <td>1</td>\n",
       "      <td>UX</td>\n",
       "      <td>0.805</td>\n",
       "      <td>-21539.3453</td>\n",
       "      <td>SDx +eY</td>\n",
       "      <td>832.4892</td>\n",
       "      <td>-0.03865</td>\n",
       "    </tr>\n",
       "    <tr>\n",
       "      <th>2</th>\n",
       "      <td>Modal -eY</td>\n",
       "      <td>1</td>\n",
       "      <td>UX</td>\n",
       "      <td>0.7943</td>\n",
       "      <td>20661.3307</td>\n",
       "      <td>SDx -eY</td>\n",
       "      <td>821.6641</td>\n",
       "      <td>0.039768</td>\n",
       "    </tr>\n",
       "    <tr>\n",
       "      <th>3</th>\n",
       "      <td>Modal</td>\n",
       "      <td>3</td>\n",
       "      <td>UY</td>\n",
       "      <td>0.7374</td>\n",
       "      <td>-78975.0895</td>\n",
       "      <td>SDy</td>\n",
       "      <td>794.2244</td>\n",
       "      <td>-0.010057</td>\n",
       "    </tr>\n",
       "    <tr>\n",
       "      <th>4</th>\n",
       "      <td>Modal +eX</td>\n",
       "      <td>3</td>\n",
       "      <td>UY</td>\n",
       "      <td>0.6514</td>\n",
       "      <td>77041.6902</td>\n",
       "      <td>SDy +eX</td>\n",
       "      <td>737.1855</td>\n",
       "      <td>0.009569</td>\n",
       "    </tr>\n",
       "    <tr>\n",
       "      <th>5</th>\n",
       "      <td>Modal -eX</td>\n",
       "      <td>3</td>\n",
       "      <td>UY</td>\n",
       "      <td>0.838</td>\n",
       "      <td>82017.303</td>\n",
       "      <td>SDy -eX</td>\n",
       "      <td>850.8034</td>\n",
       "      <td>0.010373</td>\n",
       "    </tr>\n",
       "  </tbody>\n",
       "</table>\n",
       "</div>"
      ],
      "text/plain": [
       "  Caso Modal Modo Sentido % masa Part     Mvolteo Sismo Din  Mv Sismo  \\\n",
       "0      Modal    1      UX      0.8001  21193.2838       SDx  827.7882   \n",
       "1  Modal +eY    1      UX       0.805 -21539.3453   SDx +eY  832.4892   \n",
       "2  Modal -eY    1      UX      0.7943  20661.3307   SDx -eY  821.6641   \n",
       "3      Modal    3      UY      0.7374 -78975.0895       SDy  794.2244   \n",
       "4  Modal +eX    3      UY      0.6514  77041.6902   SDy +eX  737.1855   \n",
       "5  Modal -eX    3      UY       0.838   82017.303   SDy -eX  850.8034   \n",
       "\n",
       "  F. Escala  \n",
       "0  0.039059  \n",
       "1  -0.03865  \n",
       "2  0.039768  \n",
       "3 -0.010057  \n",
       "4  0.009569  \n",
       "5  0.010373  "
      ]
     },
     "execution_count": 60,
     "metadata": {},
     "output_type": "execute_result"
    }
   ],
   "source": [
    "sismo.tables.Factor_Escala_Cimentacion"
   ]
  }
 ],
 "metadata": {
  "kernelspec": {
   "display_name": "Python 3 (ipykernel)",
   "language": "python",
   "name": "python3"
  },
  "language_info": {
   "codemirror_mode": {
    "name": "ipython",
    "version": 3
   },
   "file_extension": ".py",
   "mimetype": "text/x-python",
   "name": "python",
   "nbconvert_exporter": "python",
   "pygments_lexer": "ipython3",
   "version": "3.9.16"
  },
  "toc-showmarkdowntxt": true,
  "vscode": {
   "interpreter": {
    "hash": "bac46d45b902eb1257731b3cec425c94a9ada4fac09ba91d7557c516a1f31c36"
   }
  }
 },
 "nbformat": 4,
 "nbformat_minor": 4
}
